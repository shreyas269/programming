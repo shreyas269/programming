{
  "nbformat": 4,
  "nbformat_minor": 0,
  "metadata": {
    "colab": {
      "name": "differential_privacy_basics.ipynb",
      "provenance": [],
      "collapsed_sections": [],
      "authorship_tag": "ABX9TyPCH4SkPqnrrLx5wTiz0oqP",
      "include_colab_link": true
    },
    "kernelspec": {
      "name": "python3",
      "display_name": "Python 3"
    }
  },
  "cells": [
    {
      "cell_type": "markdown",
      "metadata": {
        "id": "view-in-github",
        "colab_type": "text"
      },
      "source": [
        "<a href=\"https://colab.research.google.com/github/shreyas269/programming/blob/master/differential_privacy/differential_privacy_basics.ipynb\" target=\"_parent\"><img src=\"https://colab.research.google.com/assets/colab-badge.svg\" alt=\"Open In Colab\"/></a>"
      ]
    },
    {
      "cell_type": "code",
      "metadata": {
        "id": "lt1jBFqQ_YIl",
        "colab_type": "code",
        "colab": {}
      },
      "source": [
        "import torch\n",
        "\n",
        "num_entries = 5000\n",
        "\n",
        "# Initializing a db of size num_entries with random 0-1 entries\n",
        "db = torch.rand(num_entries) > 0.5"
      ],
      "execution_count": 0,
      "outputs": []
    },
    {
      "cell_type": "code",
      "metadata": {
        "id": "N29MKek0sCTT",
        "colab_type": "code",
        "outputId": "0193947f-0929-491a-98cd-2fa13b16051a",
        "colab": {
          "base_uri": "https://localhost:8080/",
          "height": 34
        }
      },
      "source": [
        "db[0:5]"
      ],
      "execution_count": 0,
      "outputs": [
        {
          "output_type": "execute_result",
          "data": {
            "text/plain": [
              "tensor([False,  True,  True, False, False])"
            ]
          },
          "metadata": {
            "tags": []
          },
          "execution_count": 2
        }
      ]
    },
    {
      "cell_type": "code",
      "metadata": {
        "id": "TfYu0I0jpeb7",
        "colab_type": "code",
        "colab": {}
      },
      "source": [
        "# Get an adjacent db which differ at a specific index\n",
        "def get_parallel_db(db, remove_index):\n",
        "  return torch.cat((db[0:remove_index], \n",
        "                   db[remove_index+1:]))"
      ],
      "execution_count": 0,
      "outputs": []
    },
    {
      "cell_type": "code",
      "metadata": {
        "id": "wopDTbI9r9L5",
        "colab_type": "code",
        "outputId": "78c5252e-06e4-4c27-80f7-70cb278fc78d",
        "colab": {
          "base_uri": "https://localhost:8080/",
          "height": 34
        }
      },
      "source": [
        "get_parallel_db(db, 2)"
      ],
      "execution_count": 0,
      "outputs": [
        {
          "output_type": "execute_result",
          "data": {
            "text/plain": [
              "tensor([False,  True, False,  ..., False, False, False])"
            ]
          },
          "metadata": {
            "tags": []
          },
          "execution_count": 4
        }
      ]
    },
    {
      "cell_type": "code",
      "metadata": {
        "id": "YW118bVorSg2",
        "colab_type": "code",
        "colab": {}
      },
      "source": [
        "# Get a list of adjacent db's w.r.t a specific db\n",
        "def get_parallel_dbs(db):\n",
        "  parallel_dbs = list()\n",
        "\n",
        "  for i in range(len(db)):\n",
        "    pdb = get_parallel_db(db, i)\n",
        "    parallel_dbs.append(pdb)\n",
        "\n",
        "  return parallel_dbs"
      ],
      "execution_count": 0,
      "outputs": []
    },
    {
      "cell_type": "code",
      "metadata": {
        "id": "Z8dkRzSds-wB",
        "colab_type": "code",
        "colab": {}
      },
      "source": [
        "# Generates a random db of specified size along with its adjacent db's as well\n",
        "def create_db_and_parallels(num_entries):\n",
        "  db = torch.rand(num_entries) > 0.5\n",
        "  pdbs = get_parallel_dbs(db)\n",
        "  return db,pdbs"
      ],
      "execution_count": 0,
      "outputs": []
    },
    {
      "cell_type": "code",
      "metadata": {
        "id": "DZ1FHfcLt1kO",
        "colab_type": "code",
        "colab": {}
      },
      "source": [
        "db, pdbs = create_db_and_parallels(20)"
      ],
      "execution_count": 0,
      "outputs": []
    },
    {
      "cell_type": "code",
      "metadata": {
        "id": "idZANHShulGu",
        "colab_type": "code",
        "colab": {}
      },
      "source": [
        "# Returns sum of elements in a db\n",
        "def query(db):\n",
        "  return db.sum()"
      ],
      "execution_count": 0,
      "outputs": []
    },
    {
      "cell_type": "code",
      "metadata": {
        "id": "g4x0K41-upAK",
        "colab_type": "code",
        "outputId": "5e0f1fc3-8ee2-451d-8060-4977db3c6cd9",
        "colab": {
          "base_uri": "https://localhost:8080/",
          "height": 34
        }
      },
      "source": [
        "query(db)"
      ],
      "execution_count": 0,
      "outputs": [
        {
          "output_type": "execute_result",
          "data": {
            "text/plain": [
              "tensor(6)"
            ]
          },
          "metadata": {
            "tags": []
          },
          "execution_count": 9
        }
      ]
    },
    {
      "cell_type": "code",
      "metadata": {
        "id": "qENvJupfvBK-",
        "colab_type": "code",
        "colab": {}
      },
      "source": [
        "full_db_result = query(db)"
      ],
      "execution_count": 0,
      "outputs": []
    },
    {
      "cell_type": "code",
      "metadata": {
        "id": "iXE7uZEFvcLk",
        "colab_type": "code",
        "colab": {}
      },
      "source": [
        "max_distance = 0\n",
        "\n",
        "for pdb in pdbs:\n",
        "  pdb_result = query(pdb)\n",
        "  \n",
        "  db_distance = torch.abs(pdb_result - full_db_result)\n",
        "  if(db_distance > max_distance):\n",
        "    max_distance = db_distance"
      ],
      "execution_count": 0,
      "outputs": []
    },
    {
      "cell_type": "code",
      "metadata": {
        "id": "tqSaYKQ7wBZn",
        "colab_type": "code",
        "outputId": "99ae923e-50a5-433a-ab14-25278ac6914e",
        "colab": {
          "base_uri": "https://localhost:8080/",
          "height": 34
        }
      },
      "source": [
        "max_distance"
      ],
      "execution_count": 0,
      "outputs": [
        {
          "output_type": "execute_result",
          "data": {
            "text/plain": [
              "tensor(1)"
            ]
          },
          "metadata": {
            "tags": []
          },
          "execution_count": 12
        }
      ]
    },
    {
      "cell_type": "code",
      "metadata": {
        "id": "e1xDX_jxyG2u",
        "colab_type": "code",
        "colab": {}
      },
      "source": [
        "# Returns sensitivity of a query on a randomly generated db\n",
        "def sensitivity(query, n_entries = 100):\n",
        "  db, pdbs = create_db_and_parallels(n_entries)\n",
        "\n",
        "  full_db_result = query(db)\n",
        "\n",
        "  max_distance = 0\n",
        "\n",
        "  for pdb in pdbs:\n",
        "    pdb_result = query(pdb)\n",
        "    \n",
        "    db_distance = torch.abs(pdb_result - full_db_result)\n",
        "    if(db_distance > max_distance):\n",
        "      max_distance = db_distance\n",
        "\n",
        "  return max_distance"
      ],
      "execution_count": 0,
      "outputs": []
    },
    {
      "cell_type": "code",
      "metadata": {
        "id": "2Am7uZx4zc3w",
        "colab_type": "code",
        "outputId": "7e2fdd8f-e062-40cb-e52a-b9b27d27a8b3",
        "colab": {
          "base_uri": "https://localhost:8080/",
          "height": 34
        }
      },
      "source": [
        "sensitivity(query)"
      ],
      "execution_count": 0,
      "outputs": [
        {
          "output_type": "execute_result",
          "data": {
            "text/plain": [
              "tensor(1)"
            ]
          },
          "metadata": {
            "tags": []
          },
          "execution_count": 14
        }
      ]
    },
    {
      "cell_type": "code",
      "metadata": {
        "id": "Oox2sgrSzhLh",
        "colab_type": "code",
        "colab": {}
      },
      "source": [
        "# Returns the mean of the elements in a db\n",
        "def query_mean(db):\n",
        "  return db.float().mean()"
      ],
      "execution_count": 0,
      "outputs": []
    },
    {
      "cell_type": "code",
      "metadata": {
        "id": "blFFk_wzz1PI",
        "colab_type": "code",
        "outputId": "31328f6b-e7c2-473c-a774-f9cf0f3d1b11",
        "colab": {
          "base_uri": "https://localhost:8080/",
          "height": 34
        }
      },
      "source": [
        "sensitivity(query_mean)"
      ],
      "execution_count": 0,
      "outputs": [
        {
          "output_type": "execute_result",
          "data": {
            "text/plain": [
              "tensor(0.0056)"
            ]
          },
          "metadata": {
            "tags": []
          },
          "execution_count": 16
        }
      ]
    },
    {
      "cell_type": "code",
      "metadata": {
        "id": "-M9O8_3vz3JF",
        "colab_type": "code",
        "colab": {}
      },
      "source": [
        "threshold = 5\n",
        "\n",
        "# Threshold query which returns a bollean if the threshold is exceeded\n",
        "def query_sum_threshold(db):\n",
        "  return (db.sum() > threshold).float()"
      ],
      "execution_count": 0,
      "outputs": []
    },
    {
      "cell_type": "code",
      "metadata": {
        "id": "MOvgVa58CTQO",
        "colab_type": "code",
        "outputId": "d6c08f43-7812-4422-c82a-e9afa73c519d",
        "colab": {
          "base_uri": "https://localhost:8080/",
          "height": 187
        }
      },
      "source": [
        "for i in range(10):\n",
        "  sens_f = sensitivity(query_sum_threshold, n_entries = 10)\n",
        "  print(sens_f)"
      ],
      "execution_count": 0,
      "outputs": [
        {
          "output_type": "stream",
          "text": [
            "0\n",
            "tensor(1.)\n",
            "0\n",
            "0\n",
            "0\n",
            "0\n",
            "0\n",
            "0\n",
            "0\n",
            "0\n"
          ],
          "name": "stdout"
        }
      ]
    },
    {
      "cell_type": "code",
      "metadata": {
        "id": "639HZI7tOcEs",
        "colab_type": "code",
        "colab": {}
      },
      "source": [
        "# Provide a noisy answer with the randomized response mechanism on a db\n",
        "def randomized_response(db):\n",
        "\n",
        "  true_result = query_mean(db)\n",
        "\n",
        "  first_coin_flip = (torch.rand(len(db)) > 0.5).float()\n",
        "  second_coin_flip = (torch.rand(len(db)) > 0.5).float()\n",
        "\n",
        "  skewed_db_result = db.float() * first_coin_flip + second_coin_flip.float() * (1 - first_coin_flip)\n",
        "  noised_db_result = torch.mean(skewed_db_result.float()) * 2 - 0.5\n",
        "\n",
        "  return noised_db_result, true_result"
      ],
      "execution_count": 0,
      "outputs": []
    },
    {
      "cell_type": "code",
      "metadata": {
        "id": "lBJs1h3rUzVN",
        "colab_type": "code",
        "outputId": "105252ef-bb68-4918-ac5e-6c647c966aed",
        "colab": {
          "base_uri": "https://localhost:8080/",
          "height": 51
        }
      },
      "source": [
        "db, pdbs = create_db_and_parallels(10000)\n",
        "\n",
        "private_result, true_result = randomized_response(db)\n",
        "\n",
        "print(\"True result: \", true_result)\n",
        "print(\"Private_result: \", private_result)"
      ],
      "execution_count": 0,
      "outputs": [
        {
          "output_type": "stream",
          "text": [
            "True result:  tensor(0.5020)\n",
            "Private_result:  tensor(0.5054)\n"
          ],
          "name": "stdout"
        }
      ]
    },
    {
      "cell_type": "code",
      "metadata": {
        "id": "YscdT_uLWh_0",
        "colab_type": "code",
        "colab": {}
      },
      "source": [
        "# Randomized response mechanism with biased coin flips on the answers of db\n",
        "def randomized_response(db, p):\n",
        "\n",
        "  true_result = query_mean(db)\n",
        "\n",
        "  first_coin_flip = (torch.rand(len(db)) > 1-p).float()\n",
        "  second_coin_flip = (torch.rand(len(db)) > 0.5).float()\n",
        "\n",
        "  skewed_db_result = db.float() * first_coin_flip + second_coin_flip.float() * (1 - first_coin_flip)\n",
        "  noised_db_result = torch.mean(skewed_db_result.float()) / p - 0.5 * (1-p) / p\n",
        "\n",
        "  return noised_db_result, true_result"
      ],
      "execution_count": 0,
      "outputs": []
    },
    {
      "cell_type": "code",
      "metadata": {
        "id": "Vvw8AS-dYv7V",
        "colab_type": "code",
        "outputId": "4a3753b7-08d3-4808-d653-0e1d75a7d875",
        "colab": {
          "base_uri": "https://localhost:8080/",
          "height": 51
        }
      },
      "source": [
        "db, pdbs = create_db_and_parallels(10000)\n",
        "\n",
        "first_coin_bias = 0.75\n",
        "\n",
        "private_result, true_result = randomized_response(db, first_coin_bias)\n",
        "\n",
        "print(\"True result: \", true_result)\n",
        "print(\"Private_result: \", private_result)"
      ],
      "execution_count": 0,
      "outputs": [
        {
          "output_type": "stream",
          "text": [
            "True result:  tensor(0.5034)\n",
            "Private_result:  tensor(0.5071)\n"
          ],
          "name": "stdout"
        }
      ]
    },
    {
      "cell_type": "code",
      "metadata": {
        "id": "xYxteG-wflzT",
        "colab_type": "code",
        "colab": {}
      },
      "source": [
        "epsilon = 0.5\n",
        "\n",
        "import numpy as np\n",
        "\n",
        "db ,pdbs = create_db_and_parallels(100)"
      ],
      "execution_count": 0,
      "outputs": []
    },
    {
      "cell_type": "code",
      "metadata": {
        "id": "hJ_ae7sPgIis",
        "colab_type": "code",
        "colab": {}
      },
      "source": [
        "# Provides noisy answer using the laplace mechanism\n",
        "def laplacian_mechanism(db, query, sensitivity):\n",
        "  beta = sensitivity / epsilon\n",
        "  noise = torch.tensor(np.random.laplace(0, beta, 1))\n",
        "\n",
        "  return query(db) + noise"
      ],
      "execution_count": 0,
      "outputs": []
    },
    {
      "cell_type": "code",
      "metadata": {
        "id": "qIVmyjgLhSDn",
        "colab_type": "code",
        "outputId": "663f677c-2407-4691-aff2-34bd890163af",
        "colab": {
          "base_uri": "https://localhost:8080/",
          "height": 51
        }
      },
      "source": [
        "print(query_mean(db))\n",
        "print(laplacian_mechanism(db, query_mean, 1/100))"
      ],
      "execution_count": 0,
      "outputs": [
        {
          "output_type": "stream",
          "text": [
            "tensor(0.4800)\n",
            "tensor([0.4991], dtype=torch.float64)\n"
          ],
          "name": "stdout"
        }
      ]
    }
  ]
}