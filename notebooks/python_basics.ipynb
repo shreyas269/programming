{
 "cells": [
  {
   "cell_type": "code",
   "execution_count": 46,
   "metadata": {
    "pycharm": {
     "is_executing": false
    }
   },
   "outputs": [
    {
     "name": "stdout",
     "output_type": "stream",
     "text": [
      "<class 'int'>\n"
     ]
    }
   ],
   "source": [
    "var_int = 5\n",
    "# Print the data type\n",
    "print(type(var_int))\n"
   ]
  },
  {
   "cell_type": "code",
   "execution_count": 47,
   "metadata": {
    "pycharm": {
     "is_executing": false
    }
   },
   "outputs": [
    {
     "name": "stdout",
     "output_type": "stream",
     "text": [
      "Single quotes\n",
      "<class 'str'>\n",
      "Doule quotes\n",
      "<class 'str'>\n"
     ]
    }
   ],
   "source": [
    "var_str = 'Single quotes'\n",
    "print(var_str)\n",
    "print(type(var_str))\n",
    "var_str = \"Doule quotes\" \n",
    "print(var_str)\n",
    "print(type(var_str))"
   ]
  },
  {
   "cell_type": "code",
   "execution_count": 48,
   "metadata": {
    "pycharm": {
     "is_executing": false
    }
   },
   "outputs": [
    {
     "name": "stdout",
     "output_type": "stream",
     "text": [
      "12\n",
      "<class 'int'>\n"
     ]
    }
   ],
   "source": [
    "print(len(var_str))\n",
    "print(type(len(var_str)))"
   ]
  },
  {
   "cell_type": "code",
   "execution_count": 49,
   "metadata": {
    "pycharm": {
     "is_executing": false
    }
   },
   "outputs": [
    {
     "name": "stdout",
     "output_type": "stream",
     "text": [
      "<class 'float'>\n"
     ]
    }
   ],
   "source": [
    "var_flt = 5.5\n",
    "print(type(var_flt))"
   ]
  },
  {
   "cell_type": "code",
   "execution_count": 50,
   "metadata": {
    "pycharm": {
     "is_executing": false
    }
   },
   "outputs": [
    {
     "name": "stdout",
     "output_type": "stream",
     "text": [
      "1\n"
     ]
    }
   ],
   "source": [
    "a = 5\n",
    "b = 2\n",
    "print(a % 2)"
   ]
  },
  {
   "cell_type": "code",
   "execution_count": 51,
   "metadata": {
    "pycharm": {
     "is_executing": false
    }
   },
   "outputs": [
    {
     "name": "stdout",
     "output_type": "stream",
     "text": [
      "25\n"
     ]
    }
   ],
   "source": [
    "# Power operator\n",
    "print(a ** 2)"
   ]
  },
  {
   "cell_type": "code",
   "execution_count": 52,
   "metadata": {
    "pycharm": {
     "is_executing": false
    }
   },
   "outputs": [
    {
     "name": "stdout",
     "output_type": "stream",
     "text": [
      "2.5\n"
     ]
    }
   ],
   "source": [
    "# Float division\n",
    "print(a / 2)"
   ]
  },
  {
   "cell_type": "code",
   "execution_count": 53,
   "metadata": {
    "pycharm": {
     "is_executing": false
    }
   },
   "outputs": [
    {
     "name": "stdout",
     "output_type": "stream",
     "text": [
      "2\n"
     ]
    }
   ],
   "source": [
    "print(int(a/2))"
   ]
  },
  {
   "cell_type": "code",
   "execution_count": 54,
   "metadata": {
    "pycharm": {
     "is_executing": false
    }
   },
   "outputs": [
    {
     "name": "stdout",
     "output_type": "stream",
     "text": [
      "2.5\n"
     ]
    }
   ],
   "source": [
    "print(int(a)/2)"
   ]
  },
  {
   "cell_type": "code",
   "execution_count": 55,
   "metadata": {
    "pycharm": {
     "is_executing": false
    }
   },
   "outputs": [
    {
     "name": "stdout",
     "output_type": "stream",
     "text": [
      "2\n"
     ]
    }
   ],
   "source": [
    "# Floor division (quotient)\n",
    "print(a // 2)"
   ]
  },
  {
   "cell_type": "code",
   "execution_count": 56,
   "metadata": {
    "pycharm": {
     "is_executing": false
    }
   },
   "outputs": [
    {
     "name": "stdout",
     "output_type": "stream",
     "text": [
      "True\n",
      "False\n"
     ]
    }
   ],
   "source": [
    "# Boolean, usage or 'and', 'or'\n",
    "am_i_awesome = True\n",
    "return_true = 2 > 1 or 1 > 2\n",
    "return_false = 2 > 1 and 1 > 2\n",
    "print(return_true)\n",
    "print(return_false)"
   ]
  },
  {
   "cell_type": "code",
   "execution_count": 57,
   "metadata": {
    "pycharm": {
     "is_executing": false
    }
   },
   "outputs": [
    {
     "name": "stdout",
     "output_type": "stream",
     "text": [
      "True\n"
     ]
    }
   ],
   "source": [
    "# usage of 'not' (! -  as in C++)\n",
    "this_is_true = not (1 > 2)\n",
    "print(this_is_true)"
   ]
  },
  {
   "cell_type": "code",
   "execution_count": 58,
   "metadata": {
    "pycharm": {
     "is_executing": false
    }
   },
   "outputs": [
    {
     "name": "stdout",
     "output_type": "stream",
     "text": [
      "HARRY POTTER AND THE PRISONER OF AZKABAN\n",
      "4\n"
     ]
    }
   ],
   "source": [
    "# Basic string methods\n",
    "movie_title = 'Harry Potter and the prisoner of Azkaban'\n",
    "print(movie_title.upper())\n",
    "print(movie_title.count('a'))"
   ]
  },
  {
   "cell_type": "code",
   "execution_count": 59,
   "metadata": {
    "pycharm": {
     "is_executing": false
    }
   },
   "outputs": [
    {
     "name": "stdout",
     "output_type": "stream",
     "text": [
      "Martha\n",
      "Jonas\n",
      "56\n"
     ]
    }
   ],
   "source": [
    "# Lists (Multiple data types allowed)\n",
    "names = ['Martha', 'Ulrich', 'Jonas', 56]\n",
    "print(names[0])\n",
    "# Backward traversing using negative index\n",
    "print(names[-2])\n",
    "\n",
    "print(names[3])"
   ]
  },
  {
   "cell_type": "code",
   "execution_count": 60,
   "metadata": {
    "pycharm": {
     "is_executing": false
    }
   },
   "outputs": [
    {
     "name": "stdout",
     "output_type": "stream",
     "text": [
      "<class 'list'>\n",
      "['Martha', 'Ulrich', 'Jonas']\n",
      "['Ulrich', 'Jonas', 56]\n"
     ]
    }
   ],
   "source": [
    "# slicing in lists\n",
    "print(type(names))\n",
    "\n",
    "# first index inclusive and second index exclusive\n",
    "only_names = names[0:3]\n",
    "print(only_names)\n",
    "\n",
    "# if using 0 as starting index, you can totally skip writing it...same with the end index\n",
    "after_martha = names[1:]\n",
    "print(after_martha)"
   ]
  },
  {
   "cell_type": "code",
   "execution_count": 61,
   "metadata": {
    "pycharm": {
     "is_executing": false
    }
   },
   "outputs": [],
   "source": [
    "# print in a range\n",
    "list_of_100 = list(range(0,100, 2)) # 100 exclusive (third argument step size 2)"
   ]
  },
  {
   "cell_type": "code",
   "execution_count": 62,
   "metadata": {
    "pycharm": {
     "is_executing": false
    }
   },
   "outputs": [
    {
     "name": "stdout",
     "output_type": "stream",
     "text": [
      "[0, 2, 4, 6, 8, 10, 12, 14, 16, 18, 20, 22, 24, 26, 28, 30, 32, 34, 36, 38, 40, 42, 44, 46, 48, 50, 52, 54, 56, 58, 60, 62, 64, 66, 68, 70, 72, 74, 76, 78, 80, 82, 84, 86, 88, 90, 92, 94, 96, 98]\n"
     ]
    }
   ],
   "source": [
    "print(list_of_100)"
   ]
  },
  {
   "cell_type": "code",
   "execution_count": 63,
   "metadata": {
    "pycharm": {
     "is_executing": false
    }
   },
   "outputs": [
    {
     "name": "stdout",
     "output_type": "stream",
     "text": [
      "r\n",
      "ark\n"
     ]
    }
   ],
   "source": [
    "title = 'Dark'\n",
    "print(title[2])\n",
    "print(title[1:])"
   ]
  },
  {
   "cell_type": "code",
   "execution_count": 64,
   "metadata": {
    "pycharm": {
     "is_executing": false
    }
   },
   "outputs": [
    {
     "name": "stdout",
     "output_type": "stream",
     "text": [
      "True\n",
      "False\n"
     ]
    }
   ],
   "source": [
    "# 'in' and 'not in' membership operators\n",
    "months = ['Jan', 'Feb', 'March']\n",
    "print('Feb' in months)\n",
    "print('Apr' in months)"
   ]
  },
  {
   "cell_type": "code",
   "execution_count": 65,
   "metadata": {
    "pycharm": {
     "is_executing": false
    }
   },
   "outputs": [
    {
     "name": "stdout",
     "output_type": "stream",
     "text": [
      "True\n"
     ]
    }
   ],
   "source": [
    "name = 'Shreyas Kulkarni'\n",
    "print('eyas' in name)"
   ]
  },
  {
   "cell_type": "code",
   "execution_count": 66,
   "metadata": {
    "pycharm": {
     "is_executing": false
    }
   },
   "outputs": [
    {
     "name": "stdout",
     "output_type": "stream",
     "text": [
      "['Apple', 'Banana']\n"
     ]
    }
   ],
   "source": [
    "# Mutability of lists\n",
    "list_grocery = ['Apple', 'Mango']\n",
    "list_grocery[1] = 'Banana'\n",
    "print(list_grocery)"
   ]
  },
  {
   "cell_type": "code",
   "execution_count": 67,
   "metadata": {
    "pycharm": {
     "is_executing": false
    }
   },
   "outputs": [
    {
     "name": "stdout",
     "output_type": "stream",
     "text": [
      "a\n"
     ]
    }
   ],
   "source": [
    "# Immutable strings\n",
    "misspelled_veggie = 'cucumbar'\n",
    "print(misspelled_veggie[6])\n",
    "# misspelled_veggie[6] = 'e'"
   ]
  },
  {
   "cell_type": "code",
   "execution_count": 68,
   "metadata": {
    "pycharm": {
     "is_executing": false
    }
   },
   "outputs": [],
   "source": [
    "# Mutable objects refer to same memory location whereas immutable types create a \n",
    "# different object everytime during assignement"
   ]
  },
  {
   "cell_type": "code",
   "execution_count": 69,
   "metadata": {
    "pycharm": {
     "is_executing": false
    }
   },
   "outputs": [
    {
     "name": "stdout",
     "output_type": "stream",
     "text": [
      "[0, 1, 2, 3, 4, 5, 6, 7, 8, 9]\n",
      "9\n"
     ]
    }
   ],
   "source": [
    "numbers = list(range(0,10))\n",
    "print(numbers)\n",
    "print(max(numbers))\n",
    "# Alphabetical order in dictionary for string lists"
   ]
  },
  {
   "cell_type": "code",
   "execution_count": 70,
   "metadata": {
    "pycharm": {
     "is_executing": false
    }
   },
   "outputs": [
    {
     "name": "stdout",
     "output_type": "stream",
     "text": [
      "[0, 1, 2, 3, 4, 5, 6, 7, 8, 9]\n"
     ]
    }
   ],
   "source": [
    "# Sort (other sorting) - Keyword is 'sorted'\n",
    "print(sorted(numbers))"
   ]
  },
  {
   "cell_type": "code",
   "execution_count": 71,
   "metadata": {
    "pycharm": {
     "is_executing": false
    }
   },
   "outputs": [
    {
     "name": "stdout",
     "output_type": "stream",
     "text": [
      "['Jan', 'Feb', 'Mar']\n",
      "Jan Feb Mar\n"
     ]
    }
   ],
   "source": [
    "# '.join' usage - joins all elements of a list separated by char specified before .join\n",
    "months = ['Jan', 'Feb', 'Mar']\n",
    "print(months)\n",
    "# months = ' '.join(['Jan', 'Feb', 'Mar'])\n",
    "# print(months)\n",
    "months = ' '.join(months)\n",
    "print(months)"
   ]
  },
  {
   "cell_type": "code",
   "execution_count": 72,
   "metadata": {
    "pycharm": {
     "is_executing": false
    }
   },
   "outputs": [
    {
     "name": "stdout",
     "output_type": "stream",
     "text": [
      "My name is Shreyas Vivek Kulkarni and my birth date is 26/09/1996\n"
     ]
    }
   ],
   "source": [
    "# Formatting and printing\n",
    "print('My name is {} {} {} and my birth date is {}/{}/{}'.format('Shreyas', 'Vivek', 'Kulkarni', 26, '09', 1996))"
   ]
  },
  {
   "cell_type": "code",
   "execution_count": 73,
   "metadata": {
    "pycharm": {
     "is_executing": false
    }
   },
   "outputs": [
    {
     "name": "stdout",
     "output_type": "stream",
     "text": [
      "['Jan', 'Feb', 'Mar', 'Apr']\n",
      "e\n"
     ]
    }
   ],
   "source": [
    "# Append to a list\n",
    "months = ['Jan', 'Feb', 'Mar']\n",
    "months.append('Apr')\n",
    "print(months)\n",
    "print(months[1][1])\n",
    "# months[1][1] = 'q' # cannot do this as str is immutable"
   ]
  },
  {
   "cell_type": "code",
   "execution_count": 74,
   "metadata": {
    "pycharm": {
     "is_executing": false
    }
   },
   "outputs": [
    {
     "name": "stdout",
     "output_type": "stream",
     "text": [
      "<class 'tuple'>\n"
     ]
    }
   ],
   "source": [
    "# Tuples - immutable lists (use () paranthesis or dont use at all instead of [])\n",
    "traits = ('tall', 'slim', 'blonde') # or traits = 'tall', 'slim', 'blonde'\n",
    "# traits = 'tall', 'slim', 'blonde'\n",
    "print(type(traits))"
   ]
  },
  {
   "cell_type": "code",
   "execution_count": 75,
   "metadata": {
    "pycharm": {
     "is_executing": false
    }
   },
   "outputs": [
    {
     "name": "stdout",
     "output_type": "stream",
     "text": [
      "('tall',)\n",
      "<class 'tuple'>\n"
     ]
    }
   ],
   "source": [
    "one_value = 'tall', # to make it a tuple\n",
    "print(one_value)\n",
    "print(type(one_value))"
   ]
  },
  {
   "cell_type": "code",
   "execution_count": 76,
   "metadata": {
    "pycharm": {
     "is_executing": false
    }
   },
   "outputs": [
    {
     "name": "stdout",
     "output_type": "stream",
     "text": [
      "{2, 3, 4}\n",
      "<class 'set'>\n"
     ]
    }
   ],
   "source": [
    "# Sets - Mutable, unordered, unique\n",
    "# add, remove method\n",
    "duplicates = [1,1,2,2,3,3]\n",
    "unique = set(duplicates)\n",
    "unique.add(4)\n",
    "unique.remove(1)\n",
    "print(unique)\n",
    "print(type(unique))"
   ]
  },
  {
   "cell_type": "code",
   "execution_count": 77,
   "metadata": {
    "pycharm": {
     "is_executing": false
    }
   },
   "outputs": [
    {
     "name": "stdout",
     "output_type": "stream",
     "text": [
      "10\n",
      "5\n",
      "None\n",
      "<class 'NoneType'>\n"
     ]
    }
   ],
   "source": [
    "# Dictionary (like map in C++) (key:value) unordered ofc\n",
    "# declared in {} like tuples\n",
    "inventory = {'banana':5, 'apple':10}\n",
    "print(inventory['apple'])\n",
    "# or use .get() method to get value\n",
    "print(inventory.get('banana'))\n",
    "none_type = inventory.get('strawberries')\n",
    "print(none_type)\n",
    "# class NoneType\n",
    "print(type(none_type))"
   ]
  },
  {
   "cell_type": "code",
   "execution_count": 78,
   "metadata": {
    "pycharm": {
     "is_executing": false
    }
   },
   "outputs": [
    {
     "name": "stdout",
     "output_type": "stream",
     "text": [
      "False\n",
      "True\n"
     ]
    }
   ],
   "source": [
    "print('papaya' in inventory)\n",
    "print('apple' in inventory)"
   ]
  },
  {
   "cell_type": "code",
   "execution_count": 79,
   "metadata": {
    "pycharm": {
     "is_executing": false
    }
   },
   "outputs": [
    {
     "name": "stdout",
     "output_type": "stream",
     "text": [
      "{'price': 80, 'quantity': 12, 'quality': 'Bad'}\n",
      "80\n",
      "Bad\n"
     ]
    }
   ],
   "source": [
    "# Compound data structures\n",
    "inventory = {'banana':{'price': 20, 'quantity': 5, 'quality': 'Good'}, 'apple':{'price': 80, 'quantity': 12, 'quality': 'Bad'}}\n",
    "print(inventory['apple'])\n",
    "print(inventory['apple']['price'])\n",
    "print(inventory['apple']['quality'])"
   ]
  },
  {
   "cell_type": "code",
   "execution_count": 80,
   "metadata": {
    "pycharm": {
     "is_executing": false
    }
   },
   "outputs": [],
   "source": [
    "# Summary\n",
    "# Lists - [], duplicates allowed, mutable\n",
    "# Tuples - (), duplicates allowed, immutable lists\n",
    "# Sets - no duplicated allowed, mutable\n",
    "# Dictionary - {}, key:value pairs, no duplicates allowed (latest assignment wins)"
   ]
  },
  {
   "cell_type": "code",
   "execution_count": 81,
   "metadata": {
    "pycharm": {
     "is_executing": false
    }
   },
   "outputs": [
    {
     "name": "stdout",
     "output_type": "stream",
     "text": [
      "{'banana': {'price': 20, 'quantity': 5, 'quality': 'Good'}, 'apple': {'price': 80, 'quantity': 12, 'quality': 'Bad'}, 'mango': {'price': 20, 'quantity': 5}}\n"
     ]
    }
   ],
   "source": [
    "# Dictionary update using .update()\n",
    "if 'mango' not in inventory:\n",
    "    inventory.update({'mango': {'price': 20, 'quantity': 5}})\n",
    "    print(inventory)"
   ]
  },
  {
   "cell_type": "code",
   "execution_count": 82,
   "metadata": {
    "pycharm": {
     "is_executing": false
    }
   },
   "outputs": [
    {
     "name": "stdout",
     "output_type": "stream",
     "text": [
      "true\n"
     ]
    }
   ],
   "source": [
    "# Simplifying complex logical operations\n",
    "# need not use 'and', 'or' here\n",
    "if 25 > 16 > 9:\n",
    "    print('true')"
   ]
  },
  {
   "cell_type": "code",
   "execution_count": 83,
   "metadata": {
    "pycharm": {
     "is_executing": false
    }
   },
   "outputs": [
    {
     "name": "stdout",
     "output_type": "stream",
     "text": [
      "Banana\n",
      "Apple\n",
      "Mango\n",
      "1\n",
      "2\n",
      "3\n",
      "4\n",
      "5\n",
      "6\n",
      "7\n",
      "8\n",
      "9\n",
      "0\n",
      "1\n",
      "2\n"
     ]
    }
   ],
   "source": [
    "# Iterators for Loops\n",
    "# .title() capitalises first letter of a string\n",
    "for fruit in inventory:\n",
    "    print(fruit.title())\n",
    "\n",
    "#Here fruit is ann iterator\n",
    "\n",
    "for num in range(1,10):\n",
    "    print(num)\n",
    "    \n",
    "for num in range(len(inventory)):\n",
    "    print(num)\n",
    "    "
   ]
  },
  {
   "cell_type": "code",
   "execution_count": 84,
   "metadata": {
    "pycharm": {
     "is_executing": false
    }
   },
   "outputs": [
    {
     "name": "stdout",
     "output_type": "stream",
     "text": [
      "banana\n",
      "apple\n",
      "mango\n",
      "\n",
      "\n",
      "banana {'price': 20, 'quantity': 5, 'quality': 'Good'}\n",
      "apple {'price': 80, 'quantity': 12, 'quality': 'Bad'}\n",
      "mango {'price': 20, 'quantity': 5}\n"
     ]
    }
   ],
   "source": [
    "# Iterating through dictionaries\n",
    "# dictionary.items() to get (key, value) pair\n",
    "for key in inventory:\n",
    "    print(key)\n",
    "\n",
    "print('\\n')\n",
    "    \n",
    "for (key, value) in inventory.items():\n",
    "    print(key, value)"
   ]
  },
  {
   "cell_type": "code",
   "execution_count": 85,
   "metadata": {
    "pycharm": {
     "is_executing": false
    }
   },
   "outputs": [
    {
     "name": "stdout",
     "output_type": "stream",
     "text": [
      "20\n",
      "21\n",
      "22\n",
      "23\n",
      "24\n",
      "25\n",
      "26\n",
      "27\n",
      "28\n",
      "29\n"
     ]
    }
   ],
   "source": [
    "# While loops\n",
    "# Note that num++ does not work in python\n",
    "random_number = 20\n",
    "\n",
    "while random_number<30:\n",
    "    print(random_number)\n",
    "    random_number+=1"
   ]
  },
  {
   "cell_type": "code",
   "execution_count": 86,
   "metadata": {
    "pycharm": {
     "is_executing": false
    }
   },
   "outputs": [
    {
     "name": "stdout",
     "output_type": "stream",
     "text": [
      "20\n",
      "\n",
      "    INPUT: Takes two args length and width\n",
      "    \n",
      "    OUTPUT: Returns area of rectangle with parameters length and width\n",
      "    \n",
      "    \n"
     ]
    }
   ],
   "source": [
    "# Docstring\n",
    "def rectangle_area(length, width):\n",
    "    \"\"\"\n",
    "    INPUT: Takes two args length and width\n",
    "    \n",
    "    OUTPUT: Returns area of rectangle with parameters length and width\n",
    "    \n",
    "    \"\"\"\n",
    "    return length * width\n",
    "\n",
    "print(rectangle_area(5,4))\n",
    "\n",
    "# Printing a docstring of a function\n",
    "print(rectangle_area.__doc__)"
   ]
  },
  {
   "cell_type": "code",
   "execution_count": 87,
   "metadata": {
    "pycharm": {
     "is_executing": false
    }
   },
   "outputs": [
    {
     "name": "stdout",
     "output_type": "stream",
     "text": [
      "<class 'filter'>\n",
      "[2, 4]\n"
     ]
    }
   ],
   "source": [
    "# Higher Order Functions - Functions that take funcs as argument or return funcs\n",
    "\n",
    "numbers = list(range(1,6))\n",
    "\n",
    "def even_or_odd(num):\n",
    "    return num % 2 == 0\n",
    "\n",
    "obj = filter(even_or_odd, numbers)\n",
    "print(type(obj))\n",
    "print(list(obj))\n"
   ]
  },
  {
   "cell_type": "code",
   "execution_count": 88,
   "metadata": {
    "pycharm": {
     "is_executing": false
    }
   },
   "outputs": [
    {
     "name": "stdout",
     "output_type": "stream",
     "text": [
      "<class 'filter'>\n",
      "[2, 4]\n"
     ]
    }
   ],
   "source": [
    "# Lambda operator - Used to create small anonymous functions that aren't needed later in the code\n",
    "# Usage:- lambda <arg_to func> : <return_operation>\n",
    "obj = filter(lambda num: num % 2 == 0, numbers)\n",
    "print(type(obj))\n",
    "print(list(obj))"
   ]
  },
  {
   "cell_type": "code",
   "execution_count": null,
   "metadata": {
    "pycharm": {
     "is_executing": false
    }
   },
   "outputs": [],
   "source": [
    "# input() is of type str\n",
    "num = int(input())\n",
    "print(num+1)"
   ]
  },
  {
   "cell_type": "code",
   "execution_count": null,
   "metadata": {
    "pycharm": {
     "is_executing": false
    }
   },
   "outputs": [],
   "source": [
    "n = 500\n",
    "_str = str(n)\n",
    "print(_str)\n",
    "_str = _str[::-1]\n",
    "print(_str)\n",
    "n = int(_str)\n",
    "print(n)"
   ]
  },
  {
   "cell_type": "code",
   "execution_count": null,
   "metadata": {
    "pycharm": {
     "is_executing": false
    }
   },
   "outputs": [],
   "source": []
  }
 ],
 "metadata": {
  "kernelspec": {
   "display_name": "Python 3",
   "language": "python",
   "name": "python3"
  },
  "language_info": {
   "codemirror_mode": {
    "name": "ipython",
    "version": 3
   },
   "file_extension": ".py",
   "mimetype": "text/x-python",
   "name": "python",
   "nbconvert_exporter": "python",
   "pygments_lexer": "ipython3",
   "version": "3.7.6"
  }
 },
 "nbformat": 4,
 "nbformat_minor": 1
}
