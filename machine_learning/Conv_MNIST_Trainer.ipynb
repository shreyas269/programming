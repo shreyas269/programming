{
  "nbformat": 4,
  "nbformat_minor": 0,
  "metadata": {
    "colab": {
      "name": "Conv MNIST Trainer.ipynb",
      "provenance": [],
      "authorship_tag": "ABX9TyPXg6aIBEs3dVCgRLiDtZmO",
      "include_colab_link": true
    },
    "kernelspec": {
      "name": "python3",
      "display_name": "Python 3"
    },
    "accelerator": "GPU"
  },
  "cells": [
    {
      "cell_type": "markdown",
      "metadata": {
        "id": "view-in-github",
        "colab_type": "text"
      },
      "source": [
        "<a href=\"https://colab.research.google.com/github/shreyas269/programming/blob/master/machine_learning/Conv_MNIST_Trainer.ipynb\" target=\"_parent\"><img src=\"https://colab.research.google.com/assets/colab-badge.svg\" alt=\"Open In Colab\"/></a>"
      ]
    },
    {
      "cell_type": "code",
      "metadata": {
        "id": "9fk6rKFB33Rc",
        "colab_type": "code",
        "colab": {}
      },
      "source": [
        "import torch\n",
        "from torch import nn\n",
        "import torch.nn.functional as F\n",
        "import matplotlib.pyplot as plt\n",
        "import numpy as np\n",
        "from collections import namedtuple\n",
        "from torchvision import datasets, transforms"
      ],
      "execution_count": 0,
      "outputs": []
    },
    {
      "cell_type": "code",
      "metadata": {
        "id": "F4O-YTwFFS9b",
        "colab_type": "code",
        "colab": {}
      },
      "source": [
        "device = torch.device(\"cuda:0\" if torch.cuda.is_available() else \"cpu\")"
      ],
      "execution_count": 0,
      "outputs": []
    },
    {
      "cell_type": "code",
      "metadata": {
        "id": "NpvK673IIXzn",
        "colab_type": "code",
        "colab": {}
      },
      "source": [
        "# Hyperparameters\n",
        "std = np.array((0.5, 0.5, 0.5))\n",
        "mean = np.array((0.5, 0.5, 0.5))\n",
        "epochs = 15\n",
        "training_batch_size = 100\n",
        "validation_batch_size = 100\n",
        "lrn_rate = 0.0001"
      ],
      "execution_count": 0,
      "outputs": []
    },
    {
      "cell_type": "code",
      "metadata": {
        "id": "7RCaEpuME82R",
        "colab_type": "code",
        "colab": {}
      },
      "source": [
        "# Declaring and assigning Hyperparameters in a namedtuple\n",
        "HParams = namedtuple('HPS', 'std, mean, epochs, training_batch_size, validation_batch_size, lrn_rate')\n",
        "hps = HParams(std=std, mean=mean, epochs=epochs, training_batch_size=training_batch_size, validation_batch_size=validation_batch_size, lrn_rate=lrn_rate)"
      ],
      "execution_count": 0,
      "outputs": []
    },
    {
      "cell_type": "code",
      "metadata": {
        "id": "iVa_jtbF4-Ie",
        "colab_type": "code",
        "colab": {}
      },
      "source": [
        "# In PyTorch, images are represented as [channels, height, width]\n",
        "# For a 256x256 coloured image, [channels, height, width] = [3, 256, 256]\n",
        "# For grayscale, channels=1\n",
        "\n",
        "# \"transforms\" are common image transformations\n",
        "# tansforms.Compose chains together transformations\n",
        "# ToTensor() converts numpy array (PIL image) to FloatTensor in range [0.0, 1.0]. Transforms numpy [H, W, C] to Tensor [C, H, W]\n",
        "\n",
        "transform = transforms.Compose([transforms.ToTensor(), transforms.Normalize(mean=(0.5,), std=(0.5,))]) # Only one channel to normalize since MNIST is greyscale\n",
        "# This maps image FloatTensor values from [0.0, 1.0] to [-1.0, 1.0]"
      ],
      "execution_count": 0,
      "outputs": []
    },
    {
      "cell_type": "code",
      "metadata": {
        "id": "j7VdOR4r4J0f",
        "colab_type": "code",
        "outputId": "19c67db5-029b-4185-a328-f26bbfae0816",
        "colab": {
          "base_uri": "https://localhost:8080/",
          "height": 170
        }
      },
      "source": [
        "training_dataset = datasets.MNIST(root='./data', download=True, train=True, transform=transform)\n",
        "training_dataset"
      ],
      "execution_count": 6,
      "outputs": [
        {
          "output_type": "execute_result",
          "data": {
            "text/plain": [
              "Dataset MNIST\n",
              "    Number of datapoints: 60000\n",
              "    Root location: ./data\n",
              "    Split: Train\n",
              "    StandardTransform\n",
              "Transform: Compose(\n",
              "               ToTensor()\n",
              "               Normalize(mean=(0.5,), std=(0.5,))\n",
              "           )"
            ]
          },
          "metadata": {
            "tags": []
          },
          "execution_count": 6
        }
      ]
    },
    {
      "cell_type": "code",
      "metadata": {
        "id": "Wa2bJ7hycM_T",
        "colab_type": "code",
        "outputId": "7509fb5b-c95d-4886-89e0-10d40e733728",
        "colab": {
          "base_uri": "https://localhost:8080/",
          "height": 170
        }
      },
      "source": [
        "validation_dataset = datasets.MNIST(root='./data', download=True, train=False, transform=transform)\n",
        "validation_dataset"
      ],
      "execution_count": 7,
      "outputs": [
        {
          "output_type": "execute_result",
          "data": {
            "text/plain": [
              "Dataset MNIST\n",
              "    Number of datapoints: 10000\n",
              "    Root location: ./data\n",
              "    Split: Test\n",
              "    StandardTransform\n",
              "Transform: Compose(\n",
              "               ToTensor()\n",
              "               Normalize(mean=(0.5,), std=(0.5,))\n",
              "           )"
            ]
          },
          "metadata": {
            "tags": []
          },
          "execution_count": 7
        }
      ]
    },
    {
      "cell_type": "code",
      "metadata": {
        "id": "afHT7fK84y-7",
        "colab_type": "code",
        "colab": {}
      },
      "source": [
        "# tensor.detach() creates a tensor that shares storage with tensor that does not require grad, i.e. detaches output from computation graph.\n",
        "\n",
        "# Converts tensor image to numpy\n",
        "def im_convert(tensor):\n",
        "  image = tensor.clone().detach().numpy() # Is now [C, H, W]\n",
        "  image = image.transpose(1, 2, 0) # Is now [H, W, C]\n",
        "\n",
        "  # Denormalize the image\n",
        "  # 1. Convert [-1, 1] to [0, 1]\n",
        "\n",
        "  print(image.shape)\n",
        "  \n",
        "  image = image * std + mean\n",
        "  image.clip(0, 1) # To ensure image value is between [0, 1]\n",
        "\n",
        "  return image"
      ],
      "execution_count": 0,
      "outputs": []
    },
    {
      "cell_type": "code",
      "metadata": {
        "id": "h7yBVIORCzoK",
        "colab_type": "code",
        "outputId": "4e35816a-9207-44f2-dc8a-3001ed757f15",
        "colab": {
          "base_uri": "https://localhost:8080/",
          "height": 608
        }
      },
      "source": [
        "# Provides an iterable over the given dataset as per the sampler provided (optional). Set shuffle=True for default random sampler.\n",
        "training_loader = torch.utils.data.DataLoader(dataset=training_dataset, batch_size=hps.training_batch_size, shuffle=True)\n",
        "validation_loader = torch.utils.data.DataLoader(dataset=validation_dataset, batch_size=hps.validation_batch_size, shuffle=False)\n",
        "\n",
        "data_iter = iter(training_loader)\n",
        "images, labels = data_iter.next() # Grabs first batch of data\n",
        "\n",
        "images = images.to(device)\n",
        "labels = labels.to(device)\n",
        "\n",
        "# show sampled training images\n",
        "fig = plt.figure(figsize=(25, 4))\n",
        "\n",
        "for idx in np.arange(20):\n",
        "  ax = fig.add_subplot(2, 10, idx+1, xticks=[], yticks=[])\n",
        "  plt.imshow(im_convert(images[idx].cpu()))\n",
        "  ax.set_title(labels[idx].item())"
      ],
      "execution_count": 9,
      "outputs": [
        {
          "output_type": "stream",
          "text": [
            "(28, 28, 1)\n",
            "(28, 28, 1)\n",
            "(28, 28, 1)\n",
            "(28, 28, 1)\n",
            "(28, 28, 1)\n",
            "(28, 28, 1)\n",
            "(28, 28, 1)\n",
            "(28, 28, 1)\n",
            "(28, 28, 1)\n",
            "(28, 28, 1)\n",
            "(28, 28, 1)\n",
            "(28, 28, 1)\n",
            "(28, 28, 1)\n",
            "(28, 28, 1)\n",
            "(28, 28, 1)\n",
            "(28, 28, 1)\n",
            "(28, 28, 1)\n",
            "(28, 28, 1)\n",
            "(28, 28, 1)\n",
            "(28, 28, 1)\n"
          ],
          "name": "stdout"
        },
        {
          "output_type": "display_data",
          "data": {
            "image/png": "[encoded data removed]",
            "text/plain": [
              "<Figure size 1800x288 with 20 Axes>"
            ]
          },
          "metadata": {
            "tags": []
          }
        }
      ]
    },
    {
      "cell_type": "code",
      "metadata": {
        "id": "HUshRqNHEhQs",
        "colab_type": "code",
        "colab": {}
      },
      "source": [
        "# NN Class model\n",
        "class LeNet(nn.Module):\n",
        "  def __init__(self):\n",
        "    super().__init__() # To inherit all methods from parent class\n",
        "\n",
        "    self.conv1 = nn.Conv2d(1, 20, 5, 1) # args = (input_channels, output_channels, kernel_size, stride_length)\n",
        "    self.conv2 = nn.Conv2d(20, 50, 5, 1)\n",
        "    self.fc1 = nn.Linear(4*4*50, 500)\n",
        "    self.dropout1 = nn.Dropout(0.5)\n",
        "    self.fc2 = nn.Linear(500, 10)\n",
        "\n",
        "  def forward(self, x):\n",
        "    # Defining architecture of NN\n",
        "    x = F.relu(self.conv1(x))\n",
        "    x = F.max_pool2d(x, 2, 2) # 2x2 kernel_size\n",
        "    x = F.relu(self.conv2(x))\n",
        "    x = F.max_pool2d(x, 2, 2)\n",
        "    x = x.view(-1, 4*4*50) # Changes to 1x4*4*50 row vector\n",
        "    x = F.relu(self.fc1(x))\n",
        "    x = self.dropout1(x)\n",
        "    x = self.fc2(x) \n",
        "\n",
        "    return x"
      ],
      "execution_count": 0,
      "outputs": []
    },
    {
      "cell_type": "code",
      "metadata": {
        "id": "WT5PCIYuT0bJ",
        "colab_type": "code",
        "outputId": "f3a237c8-8204-407d-d4ac-4a3f697f2dae",
        "colab": {
          "base_uri": "https://localhost:8080/",
          "height": 136
        }
      },
      "source": [
        "model = LeNet().to(device)\n",
        "model"
      ],
      "execution_count": 11,
      "outputs": [
        {
          "output_type": "execute_result",
          "data": {
            "text/plain": [
              "LeNet(\n",
              "  (conv1): Conv2d(1, 20, kernel_size=(5, 5), stride=(1, 1))\n",
              "  (conv2): Conv2d(20, 50, kernel_size=(5, 5), stride=(1, 1))\n",
              "  (fc1): Linear(in_features=800, out_features=500, bias=True)\n",
              "  (dropout1): Dropout(p=0.5, inplace=False)\n",
              "  (fc2): Linear(in_features=500, out_features=10, bias=True)\n",
              ")"
            ]
          },
          "metadata": {
            "tags": []
          },
          "execution_count": 11
        }
      ]
    },
    {
      "cell_type": "code",
      "metadata": {
        "id": "UC9iIJHJUbuL",
        "colab_type": "code",
        "colab": {}
      },
      "source": [
        "# Define Loss\n",
        "criterion = nn.CrossEntropyLoss()\n",
        "\n",
        "# Define optimizer (SGD, Adam etc)\n",
        "optimizer = torch.optim.Adam(model.parameters(), lr=hps.lrn_rate)"
      ],
      "execution_count": 0,
      "outputs": []
    },
    {
      "cell_type": "code",
      "metadata": {
        "id": "Mi394tCzltbT",
        "colab_type": "code",
        "colab": {}
      },
      "source": [
        "def pred_image_loader(loader):\n",
        "  for inputs, labels in loader:\n",
        "    inputs = inputs.view(inputs.shape[0], -1) # (1, 28, 28) -> (1, 784). The \"-1\" infers the remaining value automatically.\n",
        "    outputs = model(inputs)\n",
        "    loss = criterion(outputs, labels)\n",
        "    running_loss+=loss.item()\n",
        "\n",
        "    _, preds = torch.max(outputs, 1) \n",
        "    correct_preds = (preds == labels.data)\n",
        "    running_corrects += torch.sum(correct_preds)\n",
        "  \n",
        "  return running_loss, running_corrects"
      ],
      "execution_count": 0,
      "outputs": []
    },
    {
      "cell_type": "code",
      "metadata": {
        "id": "aXJfsBSXm651",
        "colab_type": "code",
        "colab": {}
      },
      "source": [
        "def run_image_loader(loader, mode): # mode is either 'train' or 'eval'\n",
        "  running_loss = 0.0  # Accumulates loss from all training examples in the batch\n",
        "  running_corrects = 0.0 # Accumulates accuracy from all training examples in the batch\n",
        "\n",
        "  val_running_loss = 0.0\n",
        "  val_running_corrects = 0.0\n",
        "  \n",
        "  for inputs, labels in loader:\n",
        "    inputs = inputs.to(device)\n",
        "    labels = labels.to(device)\n",
        "\n",
        "    outputs = model(inputs)\n",
        "    loss = criterion(outputs, labels)\n",
        "    \n",
        "    training = False\n",
        "    if mode=='train':\n",
        "      training=True\n",
        "    elif mode not in ['train', 'eval']:\n",
        "      print(\"Invalid mode: \", mode, \" used\")\n",
        "      print(\"Using default 'eval' mode\")\n",
        "\n",
        "    if(training==True):\n",
        "      # Zero the gradients to avoid accumulation\n",
        "      optimizer.zero_grad()\n",
        "\n",
        "      # Find the gradient values\n",
        "      loss.backward()\n",
        "\n",
        "      # Optimize the parameter values by subtracting lr*gradient\n",
        "      optimizer.step()\n",
        "\n",
        "    running_loss+=loss.item()\n",
        "\n",
        "    _, preds = torch.max(outputs, 1) \n",
        "    correct_preds = (preds == labels.data)\n",
        "    running_corrects += torch.sum(correct_preds)\n",
        "  \n",
        "  return running_loss, running_corrects"
      ],
      "execution_count": 0,
      "outputs": []
    },
    {
      "cell_type": "code",
      "metadata": {
        "id": "1M8hMoXKVCu8",
        "colab_type": "code",
        "outputId": "5dc39784-92d5-4ab8-b272-5c66b0d7f556",
        "colab": {
          "base_uri": "https://localhost:8080/",
          "height": 272
        }
      },
      "source": [
        "running_loss_history = [] # List containing training Loss values of a batch in every epoch\n",
        "running_accuracy_history = [] # List containing training accuracy values of a batch in every epoch\n",
        "\n",
        "val_running_loss_history = [] # List containing validation Loss values of a batch in every epoch\n",
        "val_running_accuracy_history = [] # List containing validation accuracy values of a batch in every epoch\n",
        "\n",
        "for e in range(hps.epochs):\n",
        "  running_loss, running_corrects = run_image_loader(training_loader, 'train')\n",
        "\n",
        "  with torch.no_grad(): # No need for gradients while predicting on validation set\n",
        "      val_running_loss, val_running_corrects = run_image_loader(validation_loader, 'eval')\n",
        "\n",
        "  epoch_loss = running_loss/len(training_loader) # epoch_loss is average loss of input example\n",
        "  epoch_accuracy = running_corrects.float()/len(training_loader) # epoch_accuracy is accuracy of model over the partially trained model at a particular epoch\n",
        "\n",
        "  running_loss_history.append(epoch_loss)\n",
        "  running_accuracy_history.append(epoch_accuracy)\n",
        "\n",
        "  val_epoch_loss = val_running_loss/len(validation_loader) # epoch_loss is average loss of input example\n",
        "  val_epoch_accuracy = val_running_corrects.float()/len(validation_loader) # epoch_accuracy is accuracy of model over the partially trained model at a particular epoch\n",
        "\n",
        "  val_running_loss_history.append(val_epoch_loss)\n",
        "  val_running_accuracy_history.append(val_epoch_accuracy)\n",
        "\n",
        "  print(\"epoch: {}, training loss: {:.4f}, training accuracy: {:.4f}, validation loss: {:.4f}, validation accuracy: {:.4f}\".format(e+1, epoch_loss, epoch_accuracy.item(), val_epoch_loss, val_epoch_accuracy.item()))"
      ],
      "execution_count": 15,
      "outputs": [
        {
          "output_type": "stream",
          "text": [
            "epoch: 1, training loss: 0.5334, training accuracy: 85.9933, validation loss: 0.1835, validation accuracy: 94.8700\n",
            "epoch: 2, training loss: 0.1480, training accuracy: 95.6017, validation loss: 0.1001, validation accuracy: 97.1400\n",
            "epoch: 3, training loss: 0.0995, training accuracy: 97.0417, validation loss: 0.0801, validation accuracy: 97.6300\n",
            "epoch: 4, training loss: 0.0781, training accuracy: 97.6633, validation loss: 0.0583, validation accuracy: 98.2100\n",
            "epoch: 5, training loss: 0.0647, training accuracy: 98.0267, validation loss: 0.0535, validation accuracy: 98.3300\n",
            "epoch: 6, training loss: 0.0554, training accuracy: 98.3017, validation loss: 0.0452, validation accuracy: 98.5000\n",
            "epoch: 7, training loss: 0.0486, training accuracy: 98.5133, validation loss: 0.0421, validation accuracy: 98.7200\n",
            "epoch: 8, training loss: 0.0446, training accuracy: 98.5933, validation loss: 0.0405, validation accuracy: 98.6700\n",
            "epoch: 9, training loss: 0.0394, training accuracy: 98.7983, validation loss: 0.0366, validation accuracy: 98.7700\n",
            "epoch: 10, training loss: 0.0357, training accuracy: 98.9433, validation loss: 0.0338, validation accuracy: 98.9200\n",
            "epoch: 11, training loss: 0.0327, training accuracy: 99.0150, validation loss: 0.0334, validation accuracy: 98.9900\n",
            "epoch: 12, training loss: 0.0309, training accuracy: 99.0433, validation loss: 0.0377, validation accuracy: 98.7600\n",
            "epoch: 13, training loss: 0.0285, training accuracy: 99.1383, validation loss: 0.0302, validation accuracy: 99.0300\n",
            "epoch: 14, training loss: 0.0265, training accuracy: 99.1683, validation loss: 0.0339, validation accuracy: 98.9000\n",
            "epoch: 15, training loss: 0.0244, training accuracy: 99.2517, validation loss: 0.0294, validation accuracy: 98.9800\n"
          ],
          "name": "stdout"
        }
      ]
    },
    {
      "cell_type": "code",
      "metadata": {
        "id": "nY5lZqKfYkLc",
        "colab_type": "code",
        "outputId": "2fdc814d-1231-414a-8cf7-c6604b709b0a",
        "colab": {
          "base_uri": "https://localhost:8080/",
          "height": 296
        }
      },
      "source": [
        "plt.plot(running_loss_history, label='training')\n",
        "plt.plot(val_running_loss_history, label='validation')\n",
        "plt.ylabel('Batch Loss')\n",
        "plt.xlabel('epoch')\n",
        "plt.legend()"
      ],
      "execution_count": 16,
      "outputs": [
        {
          "output_type": "execute_result",
          "data": {
            "text/plain": [
              "<matplotlib.legend.Legend at 0x7fa5b32207b8>"
            ]
          },
          "metadata": {
            "tags": []
          },
          "execution_count": 16
        },
        {
          "output_type": "display_data",
          "data": {
            "image/png": "[encoded data removed]",
            "text/plain": [
              "<Figure size 432x288 with 1 Axes>"
            ]
          },
          "metadata": {
            "tags": [],
            "needs_background": "light"
          }
        }
      ]
    },
    {
      "cell_type": "code",
      "metadata": {
        "id": "wLIpDwa_Z0rE",
        "colab_type": "code",
        "outputId": "77349774-e4ba-49ab-92d9-2f1938984ea8",
        "colab": {
          "base_uri": "https://localhost:8080/",
          "height": 296
        }
      },
      "source": [
        "plt.plot(running_accuracy_history, label='training')\n",
        "plt.plot(val_running_accuracy_history, label='validation')\n",
        "plt.ylabel('Batch Accuracy')\n",
        "plt.xlabel('epoch')\n",
        "plt.legend()"
      ],
      "execution_count": 17,
      "outputs": [
        {
          "output_type": "execute_result",
          "data": {
            "text/plain": [
              "<matplotlib.legend.Legend at 0x7fa5b3232908>"
            ]
          },
          "metadata": {
            "tags": []
          },
          "execution_count": 17
        },
        {
          "output_type": "display_data",
          "data": {
            "image/png": "[encoded data removed]",
            "text/plain": [
              "<Figure size 432x288 with 1 Axes>"
            ]
          },
          "metadata": {
            "tags": [],
            "needs_background": "light"
          }
        }
      ]
    },
    {
      "cell_type": "code",
      "metadata": {
        "id": "JweIpWb7a9ID",
        "colab_type": "code",
        "colab": {}
      },
      "source": [
        ""
      ],
      "execution_count": 0,
      "outputs": []
    }
  ]
}