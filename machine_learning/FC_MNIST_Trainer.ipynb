{
  "nbformat": 4,
  "nbformat_minor": 0,
  "metadata": {
    "colab": {
      "name": "FC MNIST Trainer.ipynb",
      "provenance": [],
      "authorship_tag": "ABX9TyOlrgIgP7HA5F03Pep6GYGD",
      "include_colab_link": true
    },
    "kernelspec": {
      "name": "python3",
      "display_name": "Python 3"
    }
  },
  "cells": [
    {
      "cell_type": "markdown",
      "metadata": {
        "id": "view-in-github",
        "colab_type": "text"
      },
      "source": [
        "<a href=\"https://colab.research.google.com/github/shreyas269/programming/blob/master/machine_learning/FC_MNIST_Trainer.ipynb\" target=\"_parent\"><img src=\"https://colab.research.google.com/assets/colab-badge.svg\" alt=\"Open In Colab\"/></a>"
      ]
    },
    {
      "cell_type": "code",
      "metadata": {
        "id": "9fk6rKFB33Rc",
        "colab_type": "code",
        "colab": {}
      },
      "source": [
        "import torch\n",
        "from torch import nn\n",
        "import torch.nn.functional as F\n",
        "import matplotlib.pyplot as plt\n",
        "import numpy as np\n",
        "from collections import namedtuple\n",
        "from torchvision import datasets, transforms"
      ],
      "execution_count": 0,
      "outputs": []
    },
    {
      "cell_type": "code",
      "metadata": {
        "id": "NpvK673IIXzn",
        "colab_type": "code",
        "colab": {}
      },
      "source": [
        "# Hyperparameters\n",
        "std = np.array((0.5, 0.5, 0.5))\n",
        "mean = np.array((0.5, 0.5, 0.5))\n",
        "epochs = 20\n",
        "training_batch_size = 100\n",
        "validation_batch_size = 100\n",
        "lrn_rate = 0.0001"
      ],
      "execution_count": 0,
      "outputs": []
    },
    {
      "cell_type": "code",
      "metadata": {
        "id": "7RCaEpuME82R",
        "colab_type": "code",
        "colab": {}
      },
      "source": [
        "# Declaring and assigning Hyperparameters in a namedtuple\n",
        "HParams = namedtuple('HPS', 'std, mean, epochs, training_batch_size, validation_batch_size, lrn_rate')\n",
        "hps = HParams(std=std, mean=mean, epochs=epochs, training_batch_size=training_batch_size, validation_batch_size=validation_batch_size, lrn_rate=lrn_rate)"
      ],
      "execution_count": 0,
      "outputs": []
    },
    {
      "cell_type": "code",
      "metadata": {
        "id": "iVa_jtbF4-Ie",
        "colab_type": "code",
        "colab": {}
      },
      "source": [
        "# In PyTorch, images are represented as [channels, height, width]\n",
        "# For a 256x256 coloured image, [channels, height, width] = [3, 256, 256]\n",
        "# For grayscale, channels=1\n",
        "\n",
        "# \"transforms\" are common image transformations\n",
        "# tansforms.Compose chains together transformations\n",
        "# ToTensor() converts numpy array (PIL image) to FloatTensor in range [0.0, 1.0]. Transforms numpy [H, W, C] to Tensor [C, H, W]\n",
        "\n",
        "transform = transforms.Compose([transforms.ToTensor(), transforms.Normalize(mean=(0.5,), std=(0.5,))]) # Only one channel to normalize since MNIST is greyscale\n",
        "# This maps image FloatTensor values from [0.0, 1.0] to [-1.0, 1.0]"
      ],
      "execution_count": 0,
      "outputs": []
    },
    {
      "cell_type": "code",
      "metadata": {
        "id": "j7VdOR4r4J0f",
        "colab_type": "code",
        "outputId": "d29603e8-3405-4c00-986b-447b7ed270f2",
        "colab": {
          "base_uri": "https://localhost:8080/",
          "height": 170
        }
      },
      "source": [
        "training_dataset = datasets.MNIST(root='./data', download=True, train=True, transform=transform)\n",
        "training_dataset"
      ],
      "execution_count": 0,
      "outputs": [
        {
          "output_type": "execute_result",
          "data": {
            "text/plain": [
              "Dataset MNIST\n",
              "    Number of datapoints: 60000\n",
              "    Root location: ./data\n",
              "    Split: Train\n",
              "    StandardTransform\n",
              "Transform: Compose(\n",
              "               ToTensor()\n",
              "               Normalize(mean=(0.5,), std=(0.5,))\n",
              "           )"
            ]
          },
          "metadata": {
            "tags": []
          },
          "execution_count": 5
        }
      ]
    },
    {
      "cell_type": "code",
      "metadata": {
        "id": "Wa2bJ7hycM_T",
        "colab_type": "code",
        "outputId": "a3af0a8f-2f88-4c4e-ef3a-9297ca6c814f",
        "colab": {
          "base_uri": "https://localhost:8080/",
          "height": 170
        }
      },
      "source": [
        "validation_dataset = datasets.MNIST(root='./data', download=True, train=False, transform=transform)\n",
        "validation_dataset"
      ],
      "execution_count": 0,
      "outputs": [
        {
          "output_type": "execute_result",
          "data": {
            "text/plain": [
              "Dataset MNIST\n",
              "    Number of datapoints: 10000\n",
              "    Root location: ./data\n",
              "    Split: Test\n",
              "    StandardTransform\n",
              "Transform: Compose(\n",
              "               ToTensor()\n",
              "               Normalize(mean=(0.5,), std=(0.5,))\n",
              "           )"
            ]
          },
          "metadata": {
            "tags": []
          },
          "execution_count": 6
        }
      ]
    },
    {
      "cell_type": "code",
      "metadata": {
        "id": "afHT7fK84y-7",
        "colab_type": "code",
        "colab": {}
      },
      "source": [
        "# tensor.detach() creates a tensor that shares storage with tensor that does not require grad, i.e. detaches output from computation graph.\n",
        "\n",
        "# Converts tensor image to numpy\n",
        "def im_convert(tensor):\n",
        "  image = tensor.clone().detach().numpy() # Is now [C, H, W]\n",
        "  image = image.transpose(1, 2, 0) # Is now [H, W, C]\n",
        "\n",
        "  # Denormalize the image\n",
        "  # 1. Convert [-1, 1] to [0, 1]\n",
        "\n",
        "  print(image.shape)\n",
        "  \n",
        "  image = image * std + mean\n",
        "  image.clip(0, 1) # To ensure image value is between [0, 1]\n",
        "\n",
        "  return image"
      ],
      "execution_count": 0,
      "outputs": []
    },
    {
      "cell_type": "code",
      "metadata": {
        "id": "h7yBVIORCzoK",
        "colab_type": "code",
        "outputId": "68568e87-8e7f-4f2f-ba24-3bc173aa5167",
        "colab": {
          "base_uri": "https://localhost:8080/",
          "height": 608
        }
      },
      "source": [
        "# Provides an iterable over the given dataset as per the sampler provided (optional). Set shuffle=True for default random sampler.\n",
        "training_loader = torch.utils.data.DataLoader(dataset=training_dataset, batch_size=hps.training_batch_size, shuffle=True)\n",
        "validation_loader = torch.utils.data.DataLoader(dataset=validation_dataset, batch_size=hps.validation_batch_size, shuffle=False)\n",
        "\n",
        "data_iter = iter(training_loader)\n",
        "images, labels = data_iter.next() # Grabs first batch of data\n",
        "\n",
        "# show sampled training images\n",
        "fig = plt.figure(figsize=(25, 4))\n",
        "\n",
        "for idx in np.arange(20):\n",
        "  ax = fig.add_subplot(2, 10, idx+1, xticks=[], yticks=[])\n",
        "  plt.imshow(im_convert(images[idx]))\n",
        "  ax.set_title(labels[idx].item())"
      ],
      "execution_count": 0,
      "outputs": [
        {
          "output_type": "stream",
          "text": [
            "(28, 28, 1)\n",
            "(28, 28, 1)\n",
            "(28, 28, 1)\n",
            "(28, 28, 1)\n",
            "(28, 28, 1)\n",
            "(28, 28, 1)\n",
            "(28, 28, 1)\n",
            "(28, 28, 1)\n",
            "(28, 28, 1)\n",
            "(28, 28, 1)\n",
            "(28, 28, 1)\n",
            "(28, 28, 1)\n",
            "(28, 28, 1)\n",
            "(28, 28, 1)\n",
            "(28, 28, 1)\n",
            "(28, 28, 1)\n",
            "(28, 28, 1)\n",
            "(28, 28, 1)\n",
            "(28, 28, 1)\n",
            "(28, 28, 1)\n"
          ],
          "name": "stdout"
        },
        {
          "output_type": "display_data",
          "data": {
            "image/png": "[encoded data removed]",
            "text/plain": [
              "<Figure size 1800x288 with 20 Axes>"
            ]
          },
          "metadata": {
            "tags": []
          }
        }
      ]
    },
    {
      "cell_type": "code",
      "metadata": {
        "id": "HUshRqNHEhQs",
        "colab_type": "code",
        "colab": {}
      },
      "source": [
        "# NN Class model\n",
        "class Classifier(nn.Module):\n",
        "  def __init__(self, D_in, H1, H2, D_out):\n",
        "    super().__init__() # To inherit all methods from parent class\n",
        "\n",
        "    self.linear1 = nn.Linear(D_in, H1)\n",
        "    self.linear2 = nn.Linear(H1, H2)\n",
        "    self.linear3 = nn.Linear(H2, D_out)\n",
        "\n",
        "  def forward(self, x):\n",
        "    # Defining architecture of NN\n",
        "    x = F.relu(self.linear1(x))\n",
        "    x = F.relu(self.linear2(x))\n",
        "    x = self.linear3(x)\n",
        "    return x"
      ],
      "execution_count": 0,
      "outputs": []
    },
    {
      "cell_type": "code",
      "metadata": {
        "id": "WT5PCIYuT0bJ",
        "colab_type": "code",
        "outputId": "e7bb67bd-5018-4841-e9c5-5d2a4a3227af",
        "colab": {
          "base_uri": "https://localhost:8080/",
          "height": 102
        }
      },
      "source": [
        "model = Classifier(784, 125, 65, 10)\n",
        "model"
      ],
      "execution_count": 0,
      "outputs": [
        {
          "output_type": "execute_result",
          "data": {
            "text/plain": [
              "Classifier(\n",
              "  (linear1): Linear(in_features=784, out_features=125, bias=True)\n",
              "  (linear2): Linear(in_features=125, out_features=65, bias=True)\n",
              "  (linear3): Linear(in_features=65, out_features=10, bias=True)\n",
              ")"
            ]
          },
          "metadata": {
            "tags": []
          },
          "execution_count": 10
        }
      ]
    },
    {
      "cell_type": "code",
      "metadata": {
        "id": "UC9iIJHJUbuL",
        "colab_type": "code",
        "colab": {}
      },
      "source": [
        "# Define Loss\n",
        "criterion = nn.CrossEntropyLoss()\n",
        "\n",
        "# Define optimizer (SGD, Adam etc)\n",
        "optimizer = torch.optim.Adam(model.parameters(), lr=hps.lrn_rate)"
      ],
      "execution_count": 0,
      "outputs": []
    },
    {
      "cell_type": "code",
      "metadata": {
        "id": "Mi394tCzltbT",
        "colab_type": "code",
        "colab": {}
      },
      "source": [
        "def pred_image_loader(loader):\n",
        "  for inputs, labels in loader:\n",
        "    inputs = inputs.view(inputs.shape[0], -1) # (1, 28, 28) -> (1, 784). The \"-1\" infers the remaining value automatically.\n",
        "    outputs = model(inputs)\n",
        "    loss = criterion(outputs, labels)\n",
        "    running_loss+=loss.item()\n",
        "\n",
        "    _, preds = torch.max(outputs, 1) \n",
        "    correct_preds = (preds == labels.data)\n",
        "    running_corrects += torch.sum(correct_preds)\n",
        "  \n",
        "  return running_loss, running_corrects"
      ],
      "execution_count": 0,
      "outputs": []
    },
    {
      "cell_type": "code",
      "metadata": {
        "id": "aXJfsBSXm651",
        "colab_type": "code",
        "colab": {}
      },
      "source": [
        "def run_image_loader(loader, mode): # mode is either 'train' or 'eval'\n",
        "  running_loss = 0.0  # Accumulates loss from all training examples in the batch\n",
        "  running_corrects = 0.0 # Accumulates accuracy from all training examples in the batch\n",
        "\n",
        "  val_running_loss = 0.0\n",
        "  val_running_corrects = 0.0\n",
        "  \n",
        "  for inputs, labels in loader:\n",
        "    inputs = inputs.view(inputs.shape[0], -1) # (1, 28, 28) -> (1, 784). The \"-1\" infers the remaining value automatically.\n",
        "    outputs = model(inputs)\n",
        "    loss = criterion(outputs, labels)\n",
        "    \n",
        "    training = False\n",
        "    if mode=='train':\n",
        "      training=True\n",
        "    elif mode not in ['train', 'eval']:\n",
        "      print(\"Invalid mode: \", mode, \" used\")\n",
        "      print(\"Using default 'eval' mode\")\n",
        "\n",
        "    if(training==True):\n",
        "      # Zero the gradients to avoid accumulation\n",
        "      optimizer.zero_grad()\n",
        "\n",
        "      # Find the gradient values\n",
        "      loss.backward()\n",
        "\n",
        "      # Optimize the parameter values by subtracting lr*gradient\n",
        "      optimizer.step()\n",
        "\n",
        "    running_loss+=loss.item()\n",
        "\n",
        "    _, preds = torch.max(outputs, 1) \n",
        "    correct_preds = (preds == labels.data)\n",
        "    running_corrects += torch.sum(correct_preds)\n",
        "  \n",
        "  return running_loss, running_corrects"
      ],
      "execution_count": 0,
      "outputs": []
    },
    {
      "cell_type": "code",
      "metadata": {
        "id": "1M8hMoXKVCu8",
        "colab_type": "code",
        "outputId": "9b07e6d7-74e8-49eb-8b00-606befc4be60",
        "colab": {
          "base_uri": "https://localhost:8080/",
          "height": 357
        }
      },
      "source": [
        "running_loss_history = [] # List containing training Loss values of a batch in every epoch\n",
        "running_accuracy_history = [] # List containing training accuracy values of a batch in every epoch\n",
        "\n",
        "val_running_loss_history = [] # List containing validation Loss values of a batch in every epoch\n",
        "val_running_accuracy_history = [] # List containing validation accuracy values of a batch in every epoch\n",
        "\n",
        "for e in range(hps.epochs):\n",
        "  running_loss, running_corrects = run_image_loader(training_loader, 'train')\n",
        "\n",
        "  with torch.no_grad(): # No need for gradients while predicting on validation set\n",
        "      val_running_loss, val_running_corrects = run_image_loader(validation_loader, 'eval')\n",
        "\n",
        "  epoch_loss = running_loss/len(training_loader) # epoch_loss is average loss of input example\n",
        "  epoch_accuracy = running_corrects.float()/len(training_loader) # epoch_accuracy is accuracy of model over the partially trained model at a particular epoch\n",
        "\n",
        "  running_loss_history.append(epoch_loss)\n",
        "  running_accuracy_history.append(epoch_accuracy)\n",
        "\n",
        "  val_epoch_loss = val_running_loss/len(validation_loader) # epoch_loss is average loss of input example\n",
        "  val_epoch_accuracy = val_running_corrects.float()/len(validation_loader) # epoch_accuracy is accuracy of model over the partially trained model at a particular epoch\n",
        "\n",
        "  val_running_loss_history.append(val_epoch_loss)\n",
        "  val_running_accuracy_history.append(val_epoch_accuracy)\n",
        "\n",
        "  print(\"epoch: {}, training loss: {:.4f}, training accuracy: {:.4f}, validation loss: {:.4f}, validation accuracy: {:.4f}\".format(e+1, epoch_loss, epoch_accuracy.item(), val_epoch_loss, val_epoch_accuracy.item()))"
      ],
      "execution_count": 0,
      "outputs": [
        {
          "output_type": "stream",
          "text": [
            "epoch: 1, training loss: 0.9570, training accuracy: 75.9917, validation loss: 0.4236, validation accuracy: 88.7800\n",
            "epoch: 2, training loss: 0.3806, training accuracy: 89.3100, validation loss: 0.3236, validation accuracy: 90.8500\n",
            "epoch: 3, training loss: 0.3180, training accuracy: 90.8650, validation loss: 0.2843, validation accuracy: 92.0200\n",
            "epoch: 4, training loss: 0.2860, training accuracy: 91.6833, validation loss: 0.2601, validation accuracy: 92.5100\n",
            "epoch: 5, training loss: 0.2615, training accuracy: 92.3700, validation loss: 0.2406, validation accuracy: 92.9900\n",
            "epoch: 6, training loss: 0.2409, training accuracy: 93.0100, validation loss: 0.2235, validation accuracy: 93.3300\n",
            "epoch: 7, training loss: 0.2218, training accuracy: 93.5733, validation loss: 0.2073, validation accuracy: 94.0600\n",
            "epoch: 8, training loss: 0.2055, training accuracy: 94.0517, validation loss: 0.1970, validation accuracy: 94.0500\n",
            "epoch: 9, training loss: 0.1901, training accuracy: 94.4867, validation loss: 0.1840, validation accuracy: 94.7400\n",
            "epoch: 10, training loss: 0.1773, training accuracy: 94.8633, validation loss: 0.1719, validation accuracy: 94.8200\n",
            "epoch: 11, training loss: 0.1658, training accuracy: 95.1583, validation loss: 0.1626, validation accuracy: 95.2800\n",
            "epoch: 12, training loss: 0.1553, training accuracy: 95.5100, validation loss: 0.1590, validation accuracy: 95.4000\n",
            "epoch: 13, training loss: 0.1464, training accuracy: 95.7500, validation loss: 0.1461, validation accuracy: 95.6500\n",
            "epoch: 14, training loss: 0.1379, training accuracy: 95.9850, validation loss: 0.1431, validation accuracy: 95.7000\n",
            "epoch: 15, training loss: 0.1301, training accuracy: 96.2000, validation loss: 0.1322, validation accuracy: 96.0900\n",
            "epoch: 16, training loss: 0.1230, training accuracy: 96.3717, validation loss: 0.1288, validation accuracy: 96.1400\n",
            "epoch: 17, training loss: 0.1167, training accuracy: 96.6600, validation loss: 0.1284, validation accuracy: 96.1600\n",
            "epoch: 18, training loss: 0.1111, training accuracy: 96.8050, validation loss: 0.1196, validation accuracy: 96.3200\n",
            "epoch: 19, training loss: 0.1054, training accuracy: 96.9383, validation loss: 0.1180, validation accuracy: 96.4300\n",
            "epoch: 20, training loss: 0.1005, training accuracy: 97.0533, validation loss: 0.1150, validation accuracy: 96.4900\n"
          ],
          "name": "stdout"
        }
      ]
    },
    {
      "cell_type": "code",
      "metadata": {
        "id": "nY5lZqKfYkLc",
        "colab_type": "code",
        "outputId": "d4e50fe8-7ccc-4733-c964-142861703d44",
        "colab": {
          "base_uri": "https://localhost:8080/",
          "height": 296
        }
      },
      "source": [
        "plt.plot(running_loss_history, label='training')\n",
        "plt.plot(val_running_loss_history, label='validation')\n",
        "plt.ylabel('Batch Loss')\n",
        "plt.xlabel('epoch')\n",
        "plt.legend()"
      ],
      "execution_count": 0,
      "outputs": [
        {
          "output_type": "execute_result",
          "data": {
            "text/plain": [
              "<matplotlib.legend.Legend at 0x7f82f9f102e8>"
            ]
          },
          "metadata": {
            "tags": []
          },
          "execution_count": 15
        },
        {
          "output_type": "display_data",
          "data": {
            "image/png": "[encoded data removed]",
            "text/plain": [
              "<Figure size 432x288 with 1 Axes>"
            ]
          },
          "metadata": {
            "tags": [],
            "needs_background": "light"
          }
        }
      ]
    },
    {
      "cell_type": "code",
      "metadata": {
        "id": "wLIpDwa_Z0rE",
        "colab_type": "code",
        "outputId": "bde7cfb5-4529-4c46-ecb5-548af1bcbeed",
        "colab": {
          "base_uri": "https://localhost:8080/",
          "height": 296
        }
      },
      "source": [
        "plt.plot(running_accuracy_history, label='training')\n",
        "plt.plot(val_running_accuracy_history, label='validation')\n",
        "plt.ylabel('Batch Accuracy')\n",
        "plt.xlabel('epoch')\n",
        "plt.legend()"
      ],
      "execution_count": 0,
      "outputs": [
        {
          "output_type": "execute_result",
          "data": {
            "text/plain": [
              "<matplotlib.legend.Legend at 0x7f82fa098710>"
            ]
          },
          "metadata": {
            "tags": []
          },
          "execution_count": 16
        },
        {
          "output_type": "display_data",
          "data": {
            "image/png": "[encoded data removed]",
            "text/plain": [
              "<Figure size 432x288 with 1 Axes>"
            ]
          },
          "metadata": {
            "tags": [],
            "needs_background": "light"
          }
        }
      ]
    },
    {
      "cell_type": "code",
      "metadata": {
        "id": "JweIpWb7a9ID",
        "colab_type": "code",
        "colab": {}
      },
      "source": [
        ""
      ],
      "execution_count": 0,
      "outputs": []
    }
  ]
}