{
  "nbformat": 4,
  "nbformat_minor": 0,
  "metadata": {
    "colab": {
      "name": "Perceptron.ipynb",
      "provenance": [],
      "authorship_tag": "ABX9TyPuQkJ4IPzgJSCywOc0z/T1",
      "include_colab_link": true
    },
    "kernelspec": {
      "name": "python3",
      "display_name": "Python 3"
    }
  },
  "cells": [
    {
      "cell_type": "markdown",
      "metadata": {
        "id": "view-in-github",
        "colab_type": "text"
      },
      "source": [
        "<a href=\"https://colab.research.google.com/github/shreyas269/programming/blob/master/machine_learning/Perceptron.ipynb\" target=\"_parent\"><img src=\"https://colab.research.google.com/assets/colab-badge.svg\" alt=\"Open In Colab\"/></a>"
      ]
    },
    {
      "cell_type": "code",
      "metadata": {
        "id": "yp5lFdJ2XbFs",
        "colab_type": "code",
        "colab": {}
      },
      "source": [
        "import torch\n",
        "import numpy as np\n",
        "import matplotlib.pyplot as plt\n",
        "import torch.nn as nn\n",
        "from sklearn import datasets"
      ],
      "execution_count": 0,
      "outputs": []
    },
    {
      "cell_type": "code",
      "metadata": {
        "id": "0vByWc7VtAYU",
        "colab_type": "code",
        "outputId": "66c2fa7d-5ddc-4f32-cb17-8e0ab4e29635",
        "colab": {
          "base_uri": "https://localhost:8080/",
          "height": 34
        }
      },
      "source": [
        "n_pts = 100\n",
        "centers = [[-0.5, 0.5], [0.5, -0.5]]\n",
        "X, y = datasets.make_blobs(n_samples=n_pts, random_state=123, centers=centers, cluster_std=0.4)\n",
        "\n",
        "x_data = torch.Tensor(X)\n",
        "y_data = torch.Tensor(y.reshape(100, 1))\n",
        "print(y.shape)"
      ],
      "execution_count": 2,
      "outputs": [
        {
          "output_type": "stream",
          "text": [
            "(100,)\n"
          ],
          "name": "stdout"
        }
      ]
    },
    {
      "cell_type": "code",
      "metadata": {
        "id": "58-6ePNotG_B",
        "colab_type": "code",
        "colab": {}
      },
      "source": [
        "def scatter_plot():\n",
        "  plt.scatter(X[y==0, 0], X[y==0, 1])\n",
        "  plt.scatter(X[y==1, 0], X[y==1, 1])"
      ],
      "execution_count": 0,
      "outputs": []
    },
    {
      "cell_type": "code",
      "metadata": {
        "id": "kQin_JR3tPFT",
        "colab_type": "code",
        "outputId": "8623f828-0358-4a99-f6e7-d6d06c6721e5",
        "colab": {
          "base_uri": "https://localhost:8080/",
          "height": 266
        }
      },
      "source": [
        "scatter_plot()"
      ],
      "execution_count": 4,
      "outputs": [
        {
          "output_type": "display_data",
          "data": {
            "image/png": "[encoded data removed]",
            "text/plain": [
              "<Figure size 432x288 with 1 Axes>"
            ]
          },
          "metadata": {
            "tags": [],
            "needs_background": "light"
          }
        }
      ]
    },
    {
      "cell_type": "code",
      "metadata": {
        "id": "sP42cAbztQsI",
        "colab_type": "code",
        "colab": {}
      },
      "source": [
        "class Model(nn.Module):\n",
        "    def __init__(self, input_size, output_size):\n",
        "      super().__init__() \n",
        "      self.linear = nn.Linear(input_size, output_size)\n",
        "    def forward(self, x):\n",
        "      pred = torch.sigmoid(self.linear(x))\n",
        "      return pred\n",
        "    def predict(self, x):\n",
        "      pred = self.forward(x)\n",
        "      if pred >= 0.5:\n",
        "        return 1\n",
        "      else:\n",
        "        return 0"
      ],
      "execution_count": 0,
      "outputs": []
    },
    {
      "cell_type": "code",
      "metadata": {
        "id": "RVD88IxCtWZb",
        "colab_type": "code",
        "outputId": "5d93cdfa-8774-4d39-cd67-baeecc1c6fa4",
        "colab": {
          "base_uri": "https://localhost:8080/",
          "height": 68
        }
      },
      "source": [
        "torch.manual_seed(52)\n",
        "model = Model(2, 1)\n",
        "print(list(model.parameters()))"
      ],
      "execution_count": 6,
      "outputs": [
        {
          "output_type": "stream",
          "text": [
            "[Parameter containing:\n",
            "tensor([[0.3058, 0.4013]], requires_grad=True), Parameter containing:\n",
            "tensor([0.2633], requires_grad=True)]\n"
          ],
          "name": "stdout"
        }
      ]
    },
    {
      "cell_type": "code",
      "metadata": {
        "id": "izlmA5tKtXbQ",
        "colab_type": "code",
        "colab": {}
      },
      "source": [
        "[w, b] = model.parameters()\n",
        "w1, w2 = w.view(2)\n",
        "def get_params():\n",
        "  return (w1.item(), w2.item(), b[0].item())"
      ],
      "execution_count": 0,
      "outputs": []
    },
    {
      "cell_type": "code",
      "metadata": {
        "id": "TjpmU1GKtZ0a",
        "colab_type": "code",
        "colab": {}
      },
      "source": [
        "def plot_fit(title):\n",
        "  plt.title = title\n",
        "  w1, w2, b1 = get_params()\n",
        "  x1 = np.array([-2, 2])\n",
        "  x2 = (w1*x1 + b1)/(-w2)\n",
        "  plt.plot(x1, x2, 'r')\n",
        "  scatter_plot()\n",
        "  plt.show()"
      ],
      "execution_count": 0,
      "outputs": []
    },
    {
      "cell_type": "code",
      "metadata": {
        "id": "3b1G3tEptbw-",
        "colab_type": "code",
        "outputId": "4a642df4-371d-4003-93b4-176f75ac96f7",
        "colab": {
          "base_uri": "https://localhost:8080/",
          "height": 265
        }
      },
      "source": [
        "plot_fit('Initial Model')"
      ],
      "execution_count": 9,
      "outputs": [
        {
          "output_type": "display_data",
          "data": {
            "image/png": "[encoded data removed]",
            "text/plain": [
              "<Figure size 432x288 with 1 Axes>"
            ]
          },
          "metadata": {
            "tags": [],
            "needs_background": "light"
          }
        }
      ]
    },
    {
      "cell_type": "code",
      "metadata": {
        "id": "9VIlSNaRtesn",
        "colab_type": "code",
        "colab": {}
      },
      "source": [
        "criterion = nn.BCELoss()\n",
        "optimizer = torch.optim.SGD(model.parameters(), lr=0.01)"
      ],
      "execution_count": 0,
      "outputs": []
    },
    {
      "cell_type": "code",
      "metadata": {
        "id": "hYp2kjwEthOn",
        "colab_type": "code",
        "outputId": "8ddc9f99-3439-4e60-bc22-528e982172aa",
        "colab": {
          "base_uri": "https://localhost:8080/",
          "height": 357
        }
      },
      "source": [
        "epochs = 10000\n",
        "losses = []\n",
        "\n",
        "for i in range(epochs):\n",
        "  y_pred = model.forward(x_data)\n",
        "  loss = criterion(y_pred, y_data)\n",
        "  if i%500 == 0: \n",
        "    print(\"epoch:\", i, \"loss:\", loss.item())\n",
        "  losses.append(loss.item())\n",
        "  optimizer.zero_grad()\n",
        "  loss.backward()\n",
        "  optimizer.step()"
      ],
      "execution_count": 11,
      "outputs": [
        {
          "output_type": "stream",
          "text": [
            "epoch: 0 loss: 0.7357074618339539\n",
            "epoch: 500 loss: 0.3725249171257019\n",
            "epoch: 1000 loss: 0.2659878432750702\n",
            "epoch: 1500 loss: 0.2160821110010147\n",
            "epoch: 2000 loss: 0.18652959167957306\n",
            "epoch: 2500 loss: 0.16663973033428192\n",
            "epoch: 3000 loss: 0.1521473377943039\n",
            "epoch: 3500 loss: 0.14100508391857147\n",
            "epoch: 4000 loss: 0.13210104405879974\n",
            "epoch: 4500 loss: 0.12477599084377289\n",
            "epoch: 5000 loss: 0.1186121478676796\n",
            "epoch: 5500 loss: 0.11333107203245163\n",
            "epoch: 6000 loss: 0.10873913764953613\n",
            "epoch: 6500 loss: 0.10469722002744675\n",
            "epoch: 7000 loss: 0.1011025533080101\n",
            "epoch: 7500 loss: 0.0978773757815361\n",
            "epoch: 8000 loss: 0.09496159851551056\n",
            "epoch: 8500 loss: 0.09230803698301315\n",
            "epoch: 9000 loss: 0.08987899124622345\n",
            "epoch: 9500 loss: 0.08764395862817764\n"
          ],
          "name": "stdout"
        }
      ]
    },
    {
      "cell_type": "code",
      "metadata": {
        "id": "ExSaVlZmtjpe",
        "colab_type": "code",
        "outputId": "89f58304-0efd-4445-eb54-51a9cea57615",
        "colab": {
          "base_uri": "https://localhost:8080/",
          "height": 279
        }
      },
      "source": [
        "plt.plot(range(epochs), losses)\n",
        "plt.ylabel('Loss')\n",
        "plt.xlabel('epoch')\n",
        "plt.grid()"
      ],
      "execution_count": 12,
      "outputs": [
        {
          "output_type": "display_data",
          "data": {
            "image/png": "[encoded data removed]",
            "text/plain": [
              "<Figure size 432x288 with 1 Axes>"
            ]
          },
          "metadata": {
            "tags": [],
            "needs_background": "light"
          }
        }
      ]
    },
    {
      "cell_type": "code",
      "metadata": {
        "id": "dQkJliVAtnyd",
        "colab_type": "code",
        "outputId": "9c8ef998-54ce-4081-9dbb-f29d63dccc32",
        "colab": {
          "base_uri": "https://localhost:8080/",
          "height": 265
        }
      },
      "source": [
        "plot_fit(\"Trained Model\")"
      ],
      "execution_count": 13,
      "outputs": [
        {
          "output_type": "display_data",
          "data": {
            "image/png": "[encoded data removed]",
            "text/plain": [
              "<Figure size 432x288 with 1 Axes>"
            ]
          },
          "metadata": {
            "tags": [],
            "needs_background": "light"
          }
        }
      ]
    },
    {
      "cell_type": "code",
      "metadata": {
        "id": "t-drhQ_Jtp5O",
        "colab_type": "code",
        "outputId": "629ce292-041f-4b91-8c8a-64a8462a1a45",
        "colab": {
          "base_uri": "https://localhost:8080/",
          "height": 333
        }
      },
      "source": [
        "point1 = torch.Tensor([0, -0.2])\n",
        "point2 = torch.Tensor([-1.0, 1.0])\n",
        "plt.plot(point1.numpy()[0], point1.numpy()[1], 'ro')\n",
        "plt.plot(point2.numpy()[0], point2.numpy()[1], 'ko')\n",
        "plot_fit(\"Trained Model\")\n",
        "print(\"Red point positive probability = {}\".format(model.forward(point1).item())) \n",
        "print(\"Black point positive probability = {}\".format(model.forward(point2).item())) \n",
        "print(\"Red point belongs in class {}\".format(model.predict(point1))) \n",
        "print(\"Black point belongs in class = {}\".format(model.predict(point2)))"
      ],
      "execution_count": 14,
      "outputs": [
        {
          "output_type": "display_data",
          "data": {
            "image/png": "[encoded data removed]",
            "text/plain": [
              "<Figure size 432x288 with 1 Axes>"
            ]
          },
          "metadata": {
            "tags": [],
            "needs_background": "light"
          }
        },
        {
          "output_type": "stream",
          "text": [
            "Red point positive probability = 0.5489301085472107\n",
            "Black point positive probability = 0.00026589722256176174\n",
            "Red point belongs in class 1\n",
            "Black point belongs in class = 0\n"
          ],
          "name": "stdout"
        }
      ]
    },
    {
      "cell_type": "code",
      "metadata": {
        "id": "BAQ4RxEStsmo",
        "colab_type": "code",
        "colab": {}
      },
      "source": [
        ""
      ],
      "execution_count": 0,
      "outputs": []
    }
  ]
}