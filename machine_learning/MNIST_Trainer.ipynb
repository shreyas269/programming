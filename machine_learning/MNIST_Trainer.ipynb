{
  "nbformat": 4,
  "nbformat_minor": 0,
  "metadata": {
    "colab": {
      "name": "MNIST Trainer.ipynb",
      "provenance": [],
      "authorship_tag": "ABX9TyOvjvW0AK76NsLYFG38TjMh",
      "include_colab_link": true
    },
    "kernelspec": {
      "name": "python3",
      "display_name": "Python 3"
    }
  },
  "cells": [
    {
      "cell_type": "markdown",
      "metadata": {
        "id": "view-in-github",
        "colab_type": "text"
      },
      "source": [
        "<a href=\"https://colab.research.google.com/github/shreyas269/programming/blob/master/machine_learning/MNIST_Trainer.ipynb\" target=\"_parent\"><img src=\"https://colab.research.google.com/assets/colab-badge.svg\" alt=\"Open In Colab\"/></a>"
      ]
    },
    {
      "cell_type": "code",
      "metadata": {
        "id": "9fk6rKFB33Rc",
        "colab_type": "code",
        "colab": {}
      },
      "source": [
        "import torch\n",
        "from torch import nn\n",
        "import torch.nn.functional as F\n",
        "import matplotlib.pyplot as plt\n",
        "import numpy as np\n",
        "from collections import namedtuple\n",
        "from torchvision import datasets, transforms"
      ],
      "execution_count": 0,
      "outputs": []
    },
    {
      "cell_type": "code",
      "metadata": {
        "id": "NpvK673IIXzn",
        "colab_type": "code",
        "colab": {}
      },
      "source": [
        "# Hyperparameters\n",
        "std = np.array((0.5, 0.5, 0.5))\n",
        "mean = np.array((0.5, 0.5, 0.5))\n",
        "epochs = 20\n",
        "training_batch_size = 100\n",
        "validation_batch_size = 100\n",
        "lrn_rate = 0.0001"
      ],
      "execution_count": 0,
      "outputs": []
    },
    {
      "cell_type": "code",
      "metadata": {
        "id": "7RCaEpuME82R",
        "colab_type": "code",
        "colab": {}
      },
      "source": [
        "# Declaring and assigning Hyperparameters in a namedtuple\n",
        "HParams = namedtuple('HPS', 'std, mean, epochs, training_batch_size, validation_batch_size, lrn_rate')\n",
        "hps = HParams(std=std, mean=mean, epochs=epochs, training_batch_size=training_batch_size, validation_batch_size=validation_batch_size, lrn_rate=lrn_rate)"
      ],
      "execution_count": 0,
      "outputs": []
    },
    {
      "cell_type": "code",
      "metadata": {
        "id": "iVa_jtbF4-Ie",
        "colab_type": "code",
        "colab": {}
      },
      "source": [
        "# In PyTorch, images are represented as [channels, height, width]\n",
        "# For a 256x256 coloured image, [channels, height, width] = [3, 256, 256]\n",
        "# For grayscale, channels=1\n",
        "\n",
        "# \"transforms\" are common image transformations\n",
        "# tansforms.Compose chains together transformations\n",
        "# ToTensor() converts numpy array (PIL image) to FloatTensor in range [0.0, 1.0]. Transforms numpy [H, W, C] to Tensor [C, H, W]\n",
        "\n",
        "transform = transforms.Compose([transforms.ToTensor(), transforms.Normalize(mean=(0.5,), std=(0.5,))]) # Only one channel to normalize since MNIST is greyscale\n",
        "# This maps image FloatTensor values from [0.0, 1.0] to [-1.0, 1.0]"
      ],
      "execution_count": 0,
      "outputs": []
    },
    {
      "cell_type": "code",
      "metadata": {
        "id": "j7VdOR4r4J0f",
        "colab_type": "code",
        "outputId": "a0e753e3-a769-4bbe-f475-a12deb7d7a48",
        "colab": {
          "base_uri": "https://localhost:8080/",
          "height": 170
        }
      },
      "source": [
        "training_dataset = datasets.MNIST(root='./data', download=True, train=True, transform=transform)\n",
        "training_dataset"
      ],
      "execution_count": 0,
      "outputs": [
        {
          "output_type": "execute_result",
          "data": {
            "text/plain": [
              "Dataset MNIST\n",
              "    Number of datapoints: 60000\n",
              "    Root location: ./data\n",
              "    Split: Train\n",
              "    StandardTransform\n",
              "Transform: Compose(\n",
              "               ToTensor()\n",
              "               Normalize(mean=(0.5,), std=(0.5,))\n",
              "           )"
            ]
          },
          "metadata": {
            "tags": []
          },
          "execution_count": 134
        }
      ]
    },
    {
      "cell_type": "code",
      "metadata": {
        "id": "Wa2bJ7hycM_T",
        "colab_type": "code",
        "outputId": "7e8593a4-bf4f-4359-b836-16f574bdab6b",
        "colab": {
          "base_uri": "https://localhost:8080/",
          "height": 170
        }
      },
      "source": [
        "validation_dataset = datasets.MNIST(root='./data', download=True, train=False, transform=transform)\n",
        "validation_dataset"
      ],
      "execution_count": 0,
      "outputs": [
        {
          "output_type": "execute_result",
          "data": {
            "text/plain": [
              "Dataset MNIST\n",
              "    Number of datapoints: 10000\n",
              "    Root location: ./data\n",
              "    Split: Test\n",
              "    StandardTransform\n",
              "Transform: Compose(\n",
              "               ToTensor()\n",
              "               Normalize(mean=(0.5,), std=(0.5,))\n",
              "           )"
            ]
          },
          "metadata": {
            "tags": []
          },
          "execution_count": 135
        }
      ]
    },
    {
      "cell_type": "code",
      "metadata": {
        "id": "afHT7fK84y-7",
        "colab_type": "code",
        "colab": {}
      },
      "source": [
        "# tensor.detach() creates a tensor that shares storage with tensor that does not require grad, i.e. detaches output from computation graph.\n",
        "\n",
        "# Converts tensor image to numpy\n",
        "def im_convert(tensor):\n",
        "  image = tensor.clone().detach().numpy() # Is now [C, H, W]\n",
        "  image = image.transpose(1, 2, 0) # Is now [H, W, C]\n",
        "\n",
        "  # Denormalize the image\n",
        "  # 1. Convert [-1, 1] to [0, 1]\n",
        "\n",
        "  print(image.shape)\n",
        "  \n",
        "  image = image * std + mean\n",
        "  image.clip(0, 1) # To ensure image value is between [0, 1]\n",
        "\n",
        "  return image"
      ],
      "execution_count": 0,
      "outputs": []
    },
    {
      "cell_type": "code",
      "metadata": {
        "id": "h7yBVIORCzoK",
        "colab_type": "code",
        "outputId": "f567d128-d2fd-4376-feec-3e26b0dec06a",
        "colab": {
          "base_uri": "https://localhost:8080/",
          "height": 594
        }
      },
      "source": [
        "# Provides an iterable over the given dataset as per the sampler provided (optional). Set shuffle=True for default random sampler.\n",
        "training_loader = torch.utils.data.DataLoader(dataset=training_dataset, batch_size=hps.training_batch_size, shuffle=True)\n",
        "validation_loader = torch.utils.data.DataLoader(dataset=validation_dataset, batch_size=hps.validation_batch_size, shuffle=False)\n",
        "\n",
        "data_iter = iter(training_loader)\n",
        "images, labels = data_iter.next() # Grabs first batch of data\n",
        "\n",
        "# show sampled training images\n",
        "fig = plt.figure(figsize=(25, 4))\n",
        "\n",
        "for idx in np.arange(20):\n",
        "  ax = fig.add_subplot(2, 10, idx+1, xticks=[], yticks=[])\n",
        "  plt.imshow(im_convert(images[idx]))\n",
        "  ax.set_title(labels[idx].item())"
      ],
      "execution_count": 0,
      "outputs": [
        {
          "output_type": "stream",
          "text": [
            "(28, 28, 1)\n",
            "(28, 28, 1)\n",
            "(28, 28, 1)\n",
            "(28, 28, 1)\n",
            "(28, 28, 1)\n",
            "(28, 28, 1)\n",
            "(28, 28, 1)\n",
            "(28, 28, 1)\n",
            "(28, 28, 1)\n",
            "(28, 28, 1)\n",
            "(28, 28, 1)\n",
            "(28, 28, 1)\n",
            "(28, 28, 1)\n",
            "(28, 28, 1)\n",
            "(28, 28, 1)\n",
            "(28, 28, 1)\n",
            "(28, 28, 1)\n",
            "(28, 28, 1)\n",
            "(28, 28, 1)\n",
            "(28, 28, 1)\n"
          ],
          "name": "stdout"
        },
        {
          "output_type": "display_data",
          "data": {
            "image/png": "[encoded data removed]",
            "text/plain": [
              "<Figure size 1800x288 with 20 Axes>"
            ]
          },
          "metadata": {
            "tags": []
          }
        }
      ]
    },
    {
      "cell_type": "code",
      "metadata": {
        "id": "HUshRqNHEhQs",
        "colab_type": "code",
        "colab": {}
      },
      "source": [
        "# NN Class model\n",
        "class Classifier(nn.Module):\n",
        "  def __init__(self, D_in, H1, H2, D_out):\n",
        "    super().__init__() # To inherit all methods from parent class\n",
        "\n",
        "    self.linear1 = nn.Linear(D_in, H1)\n",
        "    self.linear2 = nn.Linear(H1, H2)\n",
        "    self.linear3 = nn.Linear(H2, D_out)\n",
        "\n",
        "  def forward(self, x):\n",
        "    # Defining architecture of NN\n",
        "    x = F.relu(self.linear1(x))\n",
        "    x = F.relu(self.linear2(x))\n",
        "    x = self.linear3(x)\n",
        "    return x"
      ],
      "execution_count": 0,
      "outputs": []
    },
    {
      "cell_type": "code",
      "metadata": {
        "id": "WT5PCIYuT0bJ",
        "colab_type": "code",
        "outputId": "ee0ae9a1-e89c-40e0-8d44-07bd4ea5ae15",
        "colab": {
          "base_uri": "https://localhost:8080/",
          "height": 102
        }
      },
      "source": [
        "model = Classifier(784, 125, 65, 10)\n",
        "model"
      ],
      "execution_count": 0,
      "outputs": [
        {
          "output_type": "execute_result",
          "data": {
            "text/plain": [
              "Classifier(\n",
              "  (linear1): Linear(in_features=784, out_features=125, bias=True)\n",
              "  (linear2): Linear(in_features=125, out_features=65, bias=True)\n",
              "  (linear3): Linear(in_features=65, out_features=10, bias=True)\n",
              ")"
            ]
          },
          "metadata": {
            "tags": []
          },
          "execution_count": 139
        }
      ]
    },
    {
      "cell_type": "code",
      "metadata": {
        "id": "UC9iIJHJUbuL",
        "colab_type": "code",
        "colab": {}
      },
      "source": [
        "# Define Loss\n",
        "criterion = nn.CrossEntropyLoss()\n",
        "\n",
        "# Define optimizer (SGD, Adam etc)\n",
        "optimizer = torch.optim.Adam(model.parameters(), lr=hps.lrn_rate)"
      ],
      "execution_count": 0,
      "outputs": []
    },
    {
      "cell_type": "code",
      "metadata": {
        "id": "Mi394tCzltbT",
        "colab_type": "code",
        "colab": {}
      },
      "source": [
        "def pred_image_loader(loader):\n",
        "  for inputs, labels in loader:\n",
        "    inputs = inputs.view(inputs.shape[0], -1) # (1, 28, 28) -> (1, 784). The \"-1\" infers the remaining value automatically.\n",
        "    outputs = model(inputs)\n",
        "    loss = criterion(outputs, labels)\n",
        "    running_loss+=loss.item()\n",
        "\n",
        "    _, preds = torch.max(outputs, 1) \n",
        "    correct_preds = (preds == labels.data)\n",
        "    running_corrects += torch.sum(correct_preds)\n",
        "  \n",
        "  return running_loss, running_corrects"
      ],
      "execution_count": 0,
      "outputs": []
    },
    {
      "cell_type": "code",
      "metadata": {
        "id": "aXJfsBSXm651",
        "colab_type": "code",
        "colab": {}
      },
      "source": [
        "def run_image_loader(loader, train):\n",
        "  running_loss = 0.0  # Accumulates loss from all training examples in the batch\n",
        "  running_corrects = 0.0 # Accumulates accuracy from all training examples in the batch\n",
        "\n",
        "  val_running_loss = 0.0\n",
        "  val_running_corrects = 0.0\n",
        "  \n",
        "  for inputs, labels in loader:\n",
        "    inputs = inputs.view(inputs.shape[0], -1) # (1, 28, 28) -> (1, 784). The \"-1\" infers the remaining value automatically.\n",
        "    outputs = model(inputs)\n",
        "    loss = criterion(outputs, labels)\n",
        "\n",
        "    if(train==True):\n",
        "      # Zero the gradients to avoid accumulation\n",
        "      optimizer.zero_grad()\n",
        "\n",
        "      # Find the gradient values\n",
        "      loss.backward()\n",
        "\n",
        "      # Optimize the parameter values by subtracting lr*gradient\n",
        "      optimizer.step()\n",
        "\n",
        "    running_loss+=loss.item()\n",
        "\n",
        "    _, preds = torch.max(outputs, 1) \n",
        "    correct_preds = (preds == labels.data)\n",
        "    running_corrects += torch.sum(correct_preds)\n",
        "  \n",
        "  return running_loss, running_corrects"
      ],
      "execution_count": 0,
      "outputs": []
    },
    {
      "cell_type": "code",
      "metadata": {
        "id": "1M8hMoXKVCu8",
        "colab_type": "code",
        "outputId": "46dac526-7e1d-4ae4-cfc2-e1c120e94c12",
        "colab": {
          "base_uri": "https://localhost:8080/",
          "height": 357
        }
      },
      "source": [
        "running_loss_history = [] # List containing training Loss values of a batch in every epoch\n",
        "running_accuracy_history = [] # List containing training accuracy values of a batch in every epoch\n",
        "\n",
        "val_running_loss_history = [] # List containing validation Loss values of a batch in every epoch\n",
        "val_running_accuracy_history = [] # List containing validation accuracy values of a batch in every epoch\n",
        "\n",
        "for e in range(hps.epochs):\n",
        "  running_loss, running_corrects = run_image_loader(training_loader, True)\n",
        "\n",
        "  with torch.no_grad(): # No need for gradients while predicting on validation set\n",
        "      val_running_loss, val_running_corrects = run_image_loader(validation_loader, False)\n",
        "\n",
        "  epoch_loss = running_loss/len(training_loader) # epoch_loss is average loss of input example\n",
        "  epoch_accuracy = running_corrects.float()/len(training_loader) # epoch_accuracy is accuracy of model over the partially trained model at a particular epoch\n",
        "\n",
        "  running_loss_history.append(epoch_loss)\n",
        "  running_accuracy_history.append(epoch_accuracy)\n",
        "\n",
        "  val_epoch_loss = val_running_loss/len(validation_loader) # epoch_loss is average loss of input example\n",
        "  val_epoch_accuracy = val_running_corrects.float()/len(validation_loader) # epoch_accuracy is accuracy of model over the partially trained model at a particular epoch\n",
        "\n",
        "  val_running_loss_history.append(val_epoch_loss)\n",
        "  val_running_accuracy_history.append(val_epoch_accuracy)\n",
        "\n",
        "  print(\"epoch: {}, training loss: {:.4f}, training accuracy: {:.4f}, validation loss: {:.4f}, validation accuracy: {:.4f}\".format(e+1, epoch_loss, epoch_accuracy.item(), val_epoch_loss, val_epoch_accuracy.item()))"
      ],
      "execution_count": 0,
      "outputs": [
        {
          "output_type": "stream",
          "text": [
            "epoch: 1, training loss: 0.9464, training accuracy: 78.2667, validation loss: 0.4206, validation accuracy: 88.6600\n",
            "epoch: 2, training loss: 0.3757, training accuracy: 89.4450, validation loss: 0.3144, validation accuracy: 91.0000\n",
            "epoch: 3, training loss: 0.3121, training accuracy: 91.0083, validation loss: 0.2792, validation accuracy: 92.0200\n",
            "epoch: 4, training loss: 0.2780, training accuracy: 91.9467, validation loss: 0.2567, validation accuracy: 92.6900\n",
            "epoch: 5, training loss: 0.2520, training accuracy: 92.7550, validation loss: 0.2358, validation accuracy: 93.1800\n",
            "epoch: 6, training loss: 0.2300, training accuracy: 93.4267, validation loss: 0.2161, validation accuracy: 93.8100\n",
            "epoch: 7, training loss: 0.2121, training accuracy: 93.8783, validation loss: 0.2008, validation accuracy: 94.1900\n",
            "epoch: 8, training loss: 0.1956, training accuracy: 94.3850, validation loss: 0.1885, validation accuracy: 94.4100\n",
            "epoch: 9, training loss: 0.1823, training accuracy: 94.7767, validation loss: 0.1770, validation accuracy: 94.7600\n",
            "epoch: 10, training loss: 0.1706, training accuracy: 95.0917, validation loss: 0.1651, validation accuracy: 94.9800\n",
            "epoch: 11, training loss: 0.1595, training accuracy: 95.3850, validation loss: 0.1575, validation accuracy: 95.1800\n",
            "epoch: 12, training loss: 0.1496, training accuracy: 95.6350, validation loss: 0.1494, validation accuracy: 95.4100\n",
            "epoch: 13, training loss: 0.1412, training accuracy: 95.8950, validation loss: 0.1438, validation accuracy: 95.6100\n",
            "epoch: 14, training loss: 0.1337, training accuracy: 96.0833, validation loss: 0.1376, validation accuracy: 95.7900\n",
            "epoch: 15, training loss: 0.1262, training accuracy: 96.3300, validation loss: 0.1353, validation accuracy: 95.8500\n",
            "epoch: 16, training loss: 0.1200, training accuracy: 96.5050, validation loss: 0.1306, validation accuracy: 96.0000\n",
            "epoch: 17, training loss: 0.1139, training accuracy: 96.7000, validation loss: 0.1229, validation accuracy: 96.1700\n",
            "epoch: 18, training loss: 0.1088, training accuracy: 96.8633, validation loss: 0.1220, validation accuracy: 96.3800\n",
            "epoch: 19, training loss: 0.1040, training accuracy: 97.0117, validation loss: 0.1163, validation accuracy: 96.5000\n",
            "epoch: 20, training loss: 0.0987, training accuracy: 97.1583, validation loss: 0.1181, validation accuracy: 96.2600\n"
          ],
          "name": "stdout"
        }
      ]
    },
    {
      "cell_type": "code",
      "metadata": {
        "id": "nY5lZqKfYkLc",
        "colab_type": "code",
        "outputId": "ab8a75ce-75ce-4b38-e5ad-71a6fb6415ec",
        "colab": {
          "base_uri": "https://localhost:8080/",
          "height": 296
        }
      },
      "source": [
        "plt.plot(running_loss_history, label='training')\n",
        "plt.plot(val_running_loss_history, label='validation')\n",
        "plt.ylabel('Batch Loss')\n",
        "plt.xlabel('epoch')\n",
        "plt.legend()"
      ],
      "execution_count": 0,
      "outputs": [
        {
          "output_type": "execute_result",
          "data": {
            "text/plain": [
              "<matplotlib.legend.Legend at 0x7f4ef4db4358>"
            ]
          },
          "metadata": {
            "tags": []
          },
          "execution_count": 144
        },
        {
          "output_type": "display_data",
          "data": {
            "image/png": "[encoded data removed]",
            "text/plain": [
              "<Figure size 432x288 with 1 Axes>"
            ]
          },
          "metadata": {
            "tags": [],
            "needs_background": "light"
          }
        }
      ]
    },
    {
      "cell_type": "code",
      "metadata": {
        "id": "wLIpDwa_Z0rE",
        "colab_type": "code",
        "outputId": "a9370431-9ea5-4a3f-8d6b-dd1c14fc90b3",
        "colab": {
          "base_uri": "https://localhost:8080/",
          "height": 296
        }
      },
      "source": [
        "plt.plot(running_accuracy_history, label='training')\n",
        "plt.plot(val_running_accuracy_history, label='validation')\n",
        "plt.ylabel('Batch Accuracy')\n",
        "plt.xlabel('epoch')\n",
        "plt.legend()"
      ],
      "execution_count": 0,
      "outputs": [
        {
          "output_type": "execute_result",
          "data": {
            "text/plain": [
              "<matplotlib.legend.Legend at 0x7f4ef57be5c0>"
            ]
          },
          "metadata": {
            "tags": []
          },
          "execution_count": 145
        },
        {
          "output_type": "display_data",
          "data": {
            "image/png": "[encoded data removed]",
            "text/plain": [
              "<Figure size 432x288 with 1 Axes>"
            ]
          },
          "metadata": {
            "tags": [],
            "needs_background": "light"
          }
        }
      ]
    },
    {
      "cell_type": "code",
      "metadata": {
        "id": "JweIpWb7a9ID",
        "colab_type": "code",
        "colab": {}
      },
      "source": [
        ""
      ],
      "execution_count": 0,
      "outputs": []
    }
  ]
}